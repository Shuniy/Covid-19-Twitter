{
 "cells": [
  {
   "cell_type": "markdown",
   "id": "median-language",
   "metadata": {},
   "source": [
    "# *Covid-19 Tweets*"
   ]
  },
  {
   "cell_type": "markdown",
   "id": "growing-april",
   "metadata": {},
   "source": [
    "### *Loading Libraries*"
   ]
  },
  {
   "cell_type": "code",
   "execution_count": 156,
   "id": "flying-loading",
   "metadata": {
    "ExecuteTime": {
     "end_time": "2021-02-26T09:37:46.359074Z",
     "start_time": "2021-02-26T09:37:46.341232Z"
    }
   },
   "outputs": [],
   "source": [
    "# Loading Libraries\n",
    "\n",
    "import pandas as pd\n",
    "import numpy as np \n",
    "\n",
    "import requests, zipfile, io\n",
    "import re\n",
    "import csv\n",
    "from nltk.corpus import stopwords\n",
    "from nltk.stem import WordNetLemmatizer\n",
    "from nltk.stem import PorterStemmer"
   ]
  },
  {
   "cell_type": "markdown",
   "id": "controversial-illness",
   "metadata": {},
   "source": [
    "## Data Wrangling\n",
    "\n",
    "**Data Wrangling has three steps:** \n",
    "- Gather Data\n",
    "\n",
    "- Access Data\n",
    "\n",
    "- Clean Data has three steps: \n",
    "    - *Define*\n",
    "    - *Code*\n",
    "    - *Test*"
   ]
  },
  {
   "cell_type": "markdown",
   "id": "intensive-majority",
   "metadata": {},
   "source": [
    "### *Gather Data*"
   ]
  },
  {
   "cell_type": "code",
   "execution_count": 157,
   "id": "pleasant-packing",
   "metadata": {
    "ExecuteTime": {
     "end_time": "2021-02-26T09:37:53.595445Z",
     "start_time": "2021-02-26T09:37:46.361724Z"
    },
    "scrolled": false
   },
   "outputs": [],
   "source": [
    "# Data can be downloaded at following link\n",
    "\n",
    "zip_file_url = 'https://cdn.spotle.ai/zip/Tweeter_Data_IN.csv.zip'\n",
    "\n",
    "r = requests.get(zip_file_url)\n",
    "z = zipfile.ZipFile(io.BytesIO(r.content))\n",
    "\n",
    "z.extractall() # To extract folder at current directory"
   ]
  },
  {
   "cell_type": "code",
   "execution_count": 158,
   "id": "personal-finish",
   "metadata": {
    "ExecuteTime": {
     "end_time": "2021-02-26T09:37:54.466713Z",
     "start_time": "2021-02-26T09:37:53.599419Z"
    }
   },
   "outputs": [],
   "source": [
    "# Loading data\n",
    "\n",
    "data = pd.read_csv('Tweeter_Data_IN.csv', header = 0)"
   ]
  },
  {
   "cell_type": "code",
   "execution_count": 159,
   "id": "digital-collect",
   "metadata": {
    "ExecuteTime": {
     "end_time": "2021-02-26T09:37:54.524981Z",
     "start_time": "2021-02-26T09:37:54.470323Z"
    }
   },
   "outputs": [
    {
     "data": {
      "text/html": [
       "<div>\n",
       "<style scoped>\n",
       "    .dataframe tbody tr th:only-of-type {\n",
       "        vertical-align: middle;\n",
       "    }\n",
       "\n",
       "    .dataframe tbody tr th {\n",
       "        vertical-align: top;\n",
       "    }\n",
       "\n",
       "    .dataframe thead th {\n",
       "        text-align: right;\n",
       "    }\n",
       "</style>\n",
       "<table border=\"1\" class=\"dataframe\">\n",
       "  <thead>\n",
       "    <tr style=\"text-align: right;\">\n",
       "      <th></th>\n",
       "      <th>created_at</th>\n",
       "      <th>hashtags</th>\n",
       "      <th>favorite_count</th>\n",
       "      <th>id</th>\n",
       "      <th>lang</th>\n",
       "      <th>place</th>\n",
       "      <th>retweet_count</th>\n",
       "      <th>text</th>\n",
       "      <th>tweet_url</th>\n",
       "      <th>user_screen_name</th>\n",
       "      <th>user_description</th>\n",
       "      <th>user_favourites_count</th>\n",
       "      <th>user_followers_count</th>\n",
       "      <th>user_friends_count</th>\n",
       "      <th>user_listed_count</th>\n",
       "      <th>user_location</th>\n",
       "      <th>user_name</th>\n",
       "      <th>user_screen_name.1</th>\n",
       "      <th>user_statuses_count</th>\n",
       "    </tr>\n",
       "  </thead>\n",
       "  <tbody>\n",
       "    <tr>\n",
       "      <th>10360</th>\n",
       "      <td>Sat Mar 28 18:56:48 +0000 2020</td>\n",
       "      <td>NaN</td>\n",
       "      <td>1</td>\n",
       "      <td>1243975344673060000</td>\n",
       "      <td>en</td>\n",
       "      <td>New Delhi, India</td>\n",
       "      <td>1</td>\n",
       "      <td>It's a shame that despite all appeals that the...</td>\n",
       "      <td>https://twitter.com/Girja_gsk/status/124397534...</td>\n",
       "      <td>Girja_gsk</td>\n",
       "      <td>Special Correspondent With The Tribune</td>\n",
       "      <td>125</td>\n",
       "      <td>164</td>\n",
       "      <td>99</td>\n",
       "      <td>1</td>\n",
       "      <td>New Delhi, India</td>\n",
       "      <td>Girja Shankar Kaura</td>\n",
       "      <td>Girja_gsk</td>\n",
       "      <td>130</td>\n",
       "    </tr>\n",
       "    <tr>\n",
       "      <th>5755</th>\n",
       "      <td>Fri Mar 27 08:11:58 +0000 2020</td>\n",
       "      <td>Corona</td>\n",
       "      <td>3</td>\n",
       "      <td>1243450679827380000</td>\n",
       "      <td>en</td>\n",
       "      <td>Noida, India</td>\n",
       "      <td>0</td>\n",
       "      <td>Respect unsung heroes of #Corona. https://t.co...</td>\n",
       "      <td>https://twitter.com/KumarGanesham/status/12434...</td>\n",
       "      <td>KumarGanesham</td>\n",
       "      <td>Proud volunteer of @myhomeindia | Social Worke...</td>\n",
       "      <td>1272</td>\n",
       "      <td>1388</td>\n",
       "      <td>605</td>\n",
       "      <td>2</td>\n",
       "      <td>Deoghar, Jharkhand &amp; New Delhi</td>\n",
       "      <td>Kumar Ganesham Jha</td>\n",
       "      <td>KumarGanesham</td>\n",
       "      <td>5207</td>\n",
       "    </tr>\n",
       "    <tr>\n",
       "      <th>34888</th>\n",
       "      <td>Sat May 02 12:50:45 +0000 2020</td>\n",
       "      <td>NaN</td>\n",
       "      <td>2</td>\n",
       "      <td>1256566797475720000</td>\n",
       "      <td>en</td>\n",
       "      <td>Kanayannur, India</td>\n",
       "      <td>0</td>\n",
       "      <td>Covid19 map of India as on today. https://t.co...</td>\n",
       "      <td>https://twitter.com/kkaction/status/1256566797...</td>\n",
       "      <td>kkaction</td>\n",
       "      <td>Philosophically curious</td>\n",
       "      <td>11098</td>\n",
       "      <td>2238</td>\n",
       "      <td>21</td>\n",
       "      <td>174</td>\n",
       "      <td>India</td>\n",
       "      <td>Krishna Kumar</td>\n",
       "      <td>kkaction</td>\n",
       "      <td>10280</td>\n",
       "    </tr>\n",
       "    <tr>\n",
       "      <th>12213</th>\n",
       "      <td>Mon Mar 30 11:26:17 +0000 2020</td>\n",
       "      <td>NaN</td>\n",
       "      <td>0</td>\n",
       "      <td>1244586744021820000</td>\n",
       "      <td>en</td>\n",
       "      <td>Noida, India</td>\n",
       "      <td>0</td>\n",
       "      <td>On what basis these morons call themselves jou...</td>\n",
       "      <td>https://twitter.com/jainpri2003/status/1244586...</td>\n",
       "      <td>jainpri2003</td>\n",
       "      <td>‡§µ‡§Ç‡§¶‡•á ‡§Æ‡§æ‡§§‡§∞‡§Æ‡•ç \\n‡§≠‡§æ‡§∞‡§§...</td>\n",
       "      <td>41656</td>\n",
       "      <td>420</td>\n",
       "      <td>412</td>\n",
       "      <td>9</td>\n",
       "      <td>India</td>\n",
       "      <td>‡§∞‡§æ‡§∑‡•ç‡§ü‡•ç‡§∞ ‡§∏‡§∞‡•ç‡§µ‡§™‡•ç‡§∞‡§•‡§Æ</td>\n",
       "      <td>jainpri2003</td>\n",
       "      <td>50432</td>\n",
       "    </tr>\n",
       "    <tr>\n",
       "      <th>12342</th>\n",
       "      <td>Mon Mar 30 11:56:05 +0000 2020</td>\n",
       "      <td>Corona</td>\n",
       "      <td>0</td>\n",
       "      <td>1244594242585900000</td>\n",
       "      <td>en</td>\n",
       "      <td>Sambalpur, India</td>\n",
       "      <td>1</td>\n",
       "      <td>Apart from cases of #Corona affected people, s...</td>\n",
       "      <td>https://twitter.com/bimalpandia/status/1244594...</td>\n",
       "      <td>bimalpandia</td>\n",
       "      <td>A development analyst by profession, a farmer ...</td>\n",
       "      <td>29967</td>\n",
       "      <td>1057</td>\n",
       "      <td>750</td>\n",
       "      <td>8</td>\n",
       "      <td>India</td>\n",
       "      <td>Bimal Pandia</td>\n",
       "      <td>bimalpandia</td>\n",
       "      <td>8875</td>\n",
       "    </tr>\n",
       "  </tbody>\n",
       "</table>\n",
       "</div>"
      ],
      "text/plain": [
       "                           created_at hashtags  favorite_count  \\\n",
       "10360  Sat Mar 28 18:56:48 +0000 2020      NaN               1   \n",
       "5755   Fri Mar 27 08:11:58 +0000 2020   Corona               3   \n",
       "34888  Sat May 02 12:50:45 +0000 2020      NaN               2   \n",
       "12213  Mon Mar 30 11:26:17 +0000 2020      NaN               0   \n",
       "12342  Mon Mar 30 11:56:05 +0000 2020   Corona               0   \n",
       "\n",
       "                        id lang              place  retweet_count  \\\n",
       "10360  1243975344673060000   en   New Delhi, India              1   \n",
       "5755   1243450679827380000   en       Noida, India              0   \n",
       "34888  1256566797475720000   en  Kanayannur, India              0   \n",
       "12213  1244586744021820000   en       Noida, India              0   \n",
       "12342  1244594242585900000   en   Sambalpur, India              1   \n",
       "\n",
       "                                                    text  \\\n",
       "10360  It's a shame that despite all appeals that the...   \n",
       "5755   Respect unsung heroes of #Corona. https://t.co...   \n",
       "34888  Covid19 map of India as on today. https://t.co...   \n",
       "12213  On what basis these morons call themselves jou...   \n",
       "12342  Apart from cases of #Corona affected people, s...   \n",
       "\n",
       "                                               tweet_url user_screen_name  \\\n",
       "10360  https://twitter.com/Girja_gsk/status/124397534...        Girja_gsk   \n",
       "5755   https://twitter.com/KumarGanesham/status/12434...    KumarGanesham   \n",
       "34888  https://twitter.com/kkaction/status/1256566797...         kkaction   \n",
       "12213  https://twitter.com/jainpri2003/status/1244586...      jainpri2003   \n",
       "12342  https://twitter.com/bimalpandia/status/1244594...      bimalpandia   \n",
       "\n",
       "                                        user_description  \\\n",
       "10360             Special Correspondent With The Tribune   \n",
       "5755   Proud volunteer of @myhomeindia | Social Worke...   \n",
       "34888                            Philosophically curious   \n",
       "12213  ‡§µ‡§Ç‡§¶‡•á ‡§Æ‡§æ‡§§‡§∞‡§Æ‡•ç \\n‡§≠‡§æ‡§∞‡§§...   \n",
       "12342  A development analyst by profession, a farmer ...   \n",
       "\n",
       "       user_favourites_count  user_followers_count  user_friends_count  \\\n",
       "10360                    125                   164                  99   \n",
       "5755                    1272                  1388                 605   \n",
       "34888                  11098                  2238                  21   \n",
       "12213                  41656                   420                 412   \n",
       "12342                  29967                  1057                 750   \n",
       "\n",
       "       user_listed_count                   user_location  \\\n",
       "10360                  1                New Delhi, India   \n",
       "5755                   2  Deoghar, Jharkhand & New Delhi   \n",
       "34888                174                           India   \n",
       "12213                  9                          India    \n",
       "12342                  8                           India   \n",
       "\n",
       "                                               user_name user_screen_name.1  \\\n",
       "10360                                Girja Shankar Kaura          Girja_gsk   \n",
       "5755                                  Kumar Ganesham Jha      KumarGanesham   \n",
       "34888                                      Krishna Kumar           kkaction   \n",
       "12213  ‡§∞‡§æ‡§∑‡•ç‡§ü‡•ç‡§∞ ‡§∏‡§∞‡•ç‡§µ‡§™‡•ç‡§∞‡§•‡§Æ        jainpri2003   \n",
       "12342                                       Bimal Pandia        bimalpandia   \n",
       "\n",
       "       user_statuses_count  \n",
       "10360                  130  \n",
       "5755                  5207  \n",
       "34888                10280  \n",
       "12213                50432  \n",
       "12342                 8875  "
      ]
     },
     "execution_count": 159,
     "metadata": {},
     "output_type": "execute_result"
    }
   ],
   "source": [
    "# Some glimpse at data\n",
    "data.sample(5)"
   ]
  },
  {
   "cell_type": "markdown",
   "id": "grand-jacob",
   "metadata": {},
   "source": [
    "### *Access*"
   ]
  },
  {
   "cell_type": "markdown",
   "id": "upper-radius",
   "metadata": {
    "ExecuteTime": {
     "end_time": "2021-02-17T13:37:35.599546Z",
     "start_time": "2021-02-17T13:37:35.582918Z"
    }
   },
   "source": [
    "#### Checking dataset"
   ]
  },
  {
   "cell_type": "code",
   "execution_count": 160,
   "id": "mathematical-samoa",
   "metadata": {
    "ExecuteTime": {
     "end_time": "2021-02-26T09:37:54.616126Z",
     "start_time": "2021-02-26T09:37:54.526018Z"
    }
   },
   "outputs": [
    {
     "name": "stdout",
     "output_type": "stream",
     "text": [
      "<class 'pandas.core.frame.DataFrame'>\n",
      "RangeIndex: 44179 entries, 0 to 44178\n",
      "Data columns (total 19 columns):\n",
      " #   Column                 Non-Null Count  Dtype \n",
      "---  ------                 --------------  ----- \n",
      " 0   created_at             44179 non-null  object\n",
      " 1   hashtags               17907 non-null  object\n",
      " 2   favorite_count         44179 non-null  int64 \n",
      " 3   id                     44179 non-null  int64 \n",
      " 4   lang                   44179 non-null  object\n",
      " 5   place                  44162 non-null  object\n",
      " 6   retweet_count          44179 non-null  int64 \n",
      " 7   text                   44179 non-null  object\n",
      " 8   tweet_url              44179 non-null  object\n",
      " 9   user_screen_name       44179 non-null  object\n",
      " 10  user_description       37905 non-null  object\n",
      " 11  user_favourites_count  44179 non-null  int64 \n",
      " 12  user_followers_count   44179 non-null  int64 \n",
      " 13  user_friends_count     44179 non-null  int64 \n",
      " 14  user_listed_count      44179 non-null  int64 \n",
      " 15  user_location          37502 non-null  object\n",
      " 16  user_name              44176 non-null  object\n",
      " 17  user_screen_name.1     44179 non-null  object\n",
      " 18  user_statuses_count    44179 non-null  int64 \n",
      "dtypes: int64(8), object(11)\n",
      "memory usage: 6.4+ MB\n"
     ]
    }
   ],
   "source": [
    "# Checking summary of data\n",
    "# id column should be string rest is fine\n",
    "data.info()"
   ]
  },
  {
   "cell_type": "code",
   "execution_count": 161,
   "id": "statutory-slovenia",
   "metadata": {
    "ExecuteTime": {
     "end_time": "2021-02-26T09:37:54.698068Z",
     "start_time": "2021-02-26T09:37:54.618158Z"
    }
   },
   "outputs": [
    {
     "data": {
      "text/html": [
       "<div>\n",
       "<style scoped>\n",
       "    .dataframe tbody tr th:only-of-type {\n",
       "        vertical-align: middle;\n",
       "    }\n",
       "\n",
       "    .dataframe tbody tr th {\n",
       "        vertical-align: top;\n",
       "    }\n",
       "\n",
       "    .dataframe thead th {\n",
       "        text-align: right;\n",
       "    }\n",
       "</style>\n",
       "<table border=\"1\" class=\"dataframe\">\n",
       "  <thead>\n",
       "    <tr style=\"text-align: right;\">\n",
       "      <th></th>\n",
       "      <th>favorite_count</th>\n",
       "      <th>id</th>\n",
       "      <th>retweet_count</th>\n",
       "      <th>user_favourites_count</th>\n",
       "      <th>user_followers_count</th>\n",
       "      <th>user_friends_count</th>\n",
       "      <th>user_listed_count</th>\n",
       "      <th>user_statuses_count</th>\n",
       "    </tr>\n",
       "  </thead>\n",
       "  <tbody>\n",
       "    <tr>\n",
       "      <th>count</th>\n",
       "      <td>44179.000000</td>\n",
       "      <td>4.417900e+04</td>\n",
       "      <td>44179.000000</td>\n",
       "      <td>44179.000000</td>\n",
       "      <td>4.417900e+04</td>\n",
       "      <td>44179.000000</td>\n",
       "      <td>44179.000000</td>\n",
       "      <td>4.417900e+04</td>\n",
       "    </tr>\n",
       "    <tr>\n",
       "      <th>mean</th>\n",
       "      <td>8.688834</td>\n",
       "      <td>1.249746e+18</td>\n",
       "      <td>2.037122</td>\n",
       "      <td>15413.078906</td>\n",
       "      <td>6.076601e+03</td>\n",
       "      <td>908.844723</td>\n",
       "      <td>15.648951</td>\n",
       "      <td>1.830381e+04</td>\n",
       "    </tr>\n",
       "    <tr>\n",
       "      <th>std</th>\n",
       "      <td>690.196275</td>\n",
       "      <td>5.513385e+15</td>\n",
       "      <td>110.332251</td>\n",
       "      <td>42971.397214</td>\n",
       "      <td>1.494865e+05</td>\n",
       "      <td>5802.053827</td>\n",
       "      <td>86.748546</td>\n",
       "      <td>5.619829e+04</td>\n",
       "    </tr>\n",
       "    <tr>\n",
       "      <th>min</th>\n",
       "      <td>0.000000</td>\n",
       "      <td>1.242693e+18</td>\n",
       "      <td>0.000000</td>\n",
       "      <td>0.000000</td>\n",
       "      <td>0.000000e+00</td>\n",
       "      <td>0.000000</td>\n",
       "      <td>0.000000</td>\n",
       "      <td>1.000000e+00</td>\n",
       "    </tr>\n",
       "    <tr>\n",
       "      <th>25%</th>\n",
       "      <td>0.000000</td>\n",
       "      <td>1.244130e+18</td>\n",
       "      <td>0.000000</td>\n",
       "      <td>233.000000</td>\n",
       "      <td>3.400000e+01</td>\n",
       "      <td>98.000000</td>\n",
       "      <td>0.000000</td>\n",
       "      <td>3.990000e+02</td>\n",
       "    </tr>\n",
       "    <tr>\n",
       "      <th>50%</th>\n",
       "      <td>0.000000</td>\n",
       "      <td>1.250482e+18</td>\n",
       "      <td>0.000000</td>\n",
       "      <td>2192.000000</td>\n",
       "      <td>1.750000e+02</td>\n",
       "      <td>293.000000</td>\n",
       "      <td>0.000000</td>\n",
       "      <td>2.476000e+03</td>\n",
       "    </tr>\n",
       "    <tr>\n",
       "      <th>75%</th>\n",
       "      <td>1.000000</td>\n",
       "      <td>1.256266e+18</td>\n",
       "      <td>0.000000</td>\n",
       "      <td>11439.000000</td>\n",
       "      <td>8.890000e+02</td>\n",
       "      <td>843.000000</td>\n",
       "      <td>5.000000</td>\n",
       "      <td>1.330600e+04</td>\n",
       "    </tr>\n",
       "    <tr>\n",
       "      <th>max</th>\n",
       "      <td>144012.000000</td>\n",
       "      <td>1.258242e+18</td>\n",
       "      <td>22549.000000</td>\n",
       "      <td>638151.000000</td>\n",
       "      <td>1.827721e+07</td>\n",
       "      <td>316697.000000</td>\n",
       "      <td>5775.000000</td>\n",
       "      <td>2.117851e+06</td>\n",
       "    </tr>\n",
       "  </tbody>\n",
       "</table>\n",
       "</div>"
      ],
      "text/plain": [
       "       favorite_count            id  retweet_count  user_favourites_count  \\\n",
       "count    44179.000000  4.417900e+04   44179.000000           44179.000000   \n",
       "mean         8.688834  1.249746e+18       2.037122           15413.078906   \n",
       "std        690.196275  5.513385e+15     110.332251           42971.397214   \n",
       "min          0.000000  1.242693e+18       0.000000               0.000000   \n",
       "25%          0.000000  1.244130e+18       0.000000             233.000000   \n",
       "50%          0.000000  1.250482e+18       0.000000            2192.000000   \n",
       "75%          1.000000  1.256266e+18       0.000000           11439.000000   \n",
       "max     144012.000000  1.258242e+18   22549.000000          638151.000000   \n",
       "\n",
       "       user_followers_count  user_friends_count  user_listed_count  \\\n",
       "count          4.417900e+04        44179.000000       44179.000000   \n",
       "mean           6.076601e+03          908.844723          15.648951   \n",
       "std            1.494865e+05         5802.053827          86.748546   \n",
       "min            0.000000e+00            0.000000           0.000000   \n",
       "25%            3.400000e+01           98.000000           0.000000   \n",
       "50%            1.750000e+02          293.000000           0.000000   \n",
       "75%            8.890000e+02          843.000000           5.000000   \n",
       "max            1.827721e+07       316697.000000        5775.000000   \n",
       "\n",
       "       user_statuses_count  \n",
       "count         4.417900e+04  \n",
       "mean          1.830381e+04  \n",
       "std           5.619829e+04  \n",
       "min           1.000000e+00  \n",
       "25%           3.990000e+02  \n",
       "50%           2.476000e+03  \n",
       "75%           1.330600e+04  \n",
       "max           2.117851e+06  "
      ]
     },
     "execution_count": 161,
     "metadata": {},
     "output_type": "execute_result"
    }
   ],
   "source": [
    "# Checking numeric properties\n",
    "data.describe()"
   ]
  },
  {
   "cell_type": "code",
   "execution_count": 162,
   "id": "north-score",
   "metadata": {
    "ExecuteTime": {
     "end_time": "2021-02-26T09:37:54.713442Z",
     "start_time": "2021-02-26T09:37:54.700360Z"
    }
   },
   "outputs": [
    {
     "name": "stdout",
     "output_type": "stream",
     "text": [
      "Index(['created_at', 'hashtags', 'favorite_count', 'id', 'lang', 'place',\n",
      "       'retweet_count', 'text', 'tweet_url', 'user_screen_name',\n",
      "       'user_description', 'user_favourites_count', 'user_followers_count',\n",
      "       'user_friends_count', 'user_listed_count', 'user_location', 'user_name',\n",
      "       'user_screen_name.1', 'user_statuses_count'],\n",
      "      dtype='object')\n"
     ]
    }
   ],
   "source": [
    "# Checking column names\n",
    "# Unnecassary Columns\n",
    "# Column names are lower case and fine\n",
    "print(data.columns)"
   ]
  },
  {
   "cell_type": "code",
   "execution_count": 163,
   "id": "induced-bankruptcy",
   "metadata": {
    "ExecuteTime": {
     "end_time": "2021-02-26T09:37:54.725784Z",
     "start_time": "2021-02-26T09:37:54.718362Z"
    }
   },
   "outputs": [
    {
     "data": {
      "text/plain": [
       "(44179, 19)"
      ]
     },
     "execution_count": 163,
     "metadata": {},
     "output_type": "execute_result"
    }
   ],
   "source": [
    "# Checking size of data\n",
    "data.shape"
   ]
  },
  {
   "cell_type": "code",
   "execution_count": 164,
   "id": "anticipated-cleveland",
   "metadata": {
    "ExecuteTime": {
     "end_time": "2021-02-26T09:37:54.788929Z",
     "start_time": "2021-02-26T09:37:54.729649Z"
    }
   },
   "outputs": [
    {
     "data": {
      "text/plain": [
       "created_at                   0\n",
       "hashtags                 26272\n",
       "favorite_count               0\n",
       "id                           0\n",
       "lang                         0\n",
       "place                       17\n",
       "retweet_count                0\n",
       "text                         0\n",
       "tweet_url                    0\n",
       "user_screen_name             0\n",
       "user_description          6274\n",
       "user_favourites_count        0\n",
       "user_followers_count         0\n",
       "user_friends_count           0\n",
       "user_listed_count            0\n",
       "user_location             6677\n",
       "user_name                    3\n",
       "user_screen_name.1           0\n",
       "user_statuses_count          0\n",
       "dtype: int64"
      ]
     },
     "execution_count": 164,
     "metadata": {},
     "output_type": "execute_result"
    }
   ],
   "source": [
    "# Checking missing data\n",
    "data.isna().sum()"
   ]
  },
  {
   "cell_type": "code",
   "execution_count": 165,
   "id": "alpha-journalism",
   "metadata": {
    "ExecuteTime": {
     "end_time": "2021-02-26T09:37:54.853489Z",
     "start_time": "2021-02-26T09:37:54.791515Z"
    }
   },
   "outputs": [
    {
     "name": "stdout",
     "output_type": "stream",
     "text": [
      "Proportion of missing data:\n",
      "created_at                0.000000\n",
      "hashtags                 59.467168\n",
      "favorite_count            0.000000\n",
      "id                        0.000000\n",
      "lang                      0.000000\n",
      "place                     0.038480\n",
      "retweet_count             0.000000\n",
      "text                      0.000000\n",
      "tweet_url                 0.000000\n",
      "user_screen_name          0.000000\n",
      "user_description         14.201317\n",
      "user_favourites_count     0.000000\n",
      "user_followers_count      0.000000\n",
      "user_friends_count        0.000000\n",
      "user_listed_count         0.000000\n",
      "user_location            15.113515\n",
      "user_name                 0.006791\n",
      "user_screen_name.1        0.000000\n",
      "user_statuses_count       0.000000\n",
      "dtype: float64\n"
     ]
    }
   ],
   "source": [
    "# Ratio of missing values\n",
    "\n",
    "print('Proportion of missing data:') \n",
    "print(data.isna().sum() / data.shape[0] * 100)"
   ]
  },
  {
   "cell_type": "code",
   "execution_count": 166,
   "id": "accurate-harvest",
   "metadata": {
    "ExecuteTime": {
     "end_time": "2021-02-26T09:37:54.883555Z",
     "start_time": "2021-02-26T09:37:54.853489Z"
    }
   },
   "outputs": [
    {
     "data": {
      "text/plain": [
       "(8752, 19)"
      ]
     },
     "execution_count": 166,
     "metadata": {},
     "output_type": "execute_result"
    }
   ],
   "source": [
    "# We dont need hashtags in accordance to user so that can be seperated\n",
    "# The standard deviations are high, means there are lot of zeroes in count columns which we dont need\n",
    "\n",
    "# Relevant data with most information\n",
    "data.query('retweet_count > 0 and user_favourites_count > 0 and user_friends_count > 0 and user_followers_count > 0').shape"
   ]
  },
  {
   "cell_type": "code",
   "execution_count": 167,
   "id": "affiliated-grocery",
   "metadata": {
    "ExecuteTime": {
     "end_time": "2021-02-26T09:37:55.149940Z",
     "start_time": "2021-02-26T09:37:54.887053Z"
    }
   },
   "outputs": [
    {
     "data": {
      "text/plain": [
       "0"
      ]
     },
     "execution_count": 167,
     "metadata": {},
     "output_type": "execute_result"
    }
   ],
   "source": [
    "# Checking duplicates\n",
    "# No duplicates\n",
    "data.duplicated().sum()"
   ]
  },
  {
   "cell_type": "markdown",
   "id": "liquid-boost",
   "metadata": {},
   "source": [
    "### *Clean Data*"
   ]
  },
  {
   "cell_type": "markdown",
   "id": "animal-despite",
   "metadata": {
    "ExecuteTime": {
     "end_time": "2021-02-17T14:03:34.578386Z",
     "start_time": "2021-02-17T14:03:34.568217Z"
    }
   },
   "source": [
    "#### *Collecting all the text as seperate document for further analysis*\n",
    "#### *Collecting hashtags*"
   ]
  },
  {
   "cell_type": "markdown",
   "id": "funded-status",
   "metadata": {
    "ExecuteTime": {
     "end_time": "2021-02-17T14:03:35.918193Z",
     "start_time": "2021-02-17T14:03:35.908904Z"
    }
   },
   "source": [
    "### *Text Processing*\n",
    "### Text Processing Steps:\n",
    "- Converting Upper or title case letters to lower case\n",
    "- Removing Escape characters such as new line\n",
    "- Removing Hyperlinks\n",
    "- Removing Punctations\n",
    "- Removing Numbers\n",
    "- Removing stop words (a, an, the etc.)\n",
    "- Removing profane words if neccessary\n",
    "- Stemming or lemmatization"
   ]
  },
  {
   "cell_type": "code",
   "execution_count": 168,
   "id": "pacific-bridge",
   "metadata": {
    "ExecuteTime": {
     "end_time": "2021-02-26T09:37:55.595834Z",
     "start_time": "2021-02-26T09:37:55.150936Z"
    }
   },
   "outputs": [
    {
     "name": "stdout",
     "output_type": "stream",
     "text": [
      "44179\n",
      "17907\n"
     ]
    }
   ],
   "source": [
    "# Creating list of data\n",
    "# Removing null values in list\n",
    "\n",
    "temp_text = list(filter(lambda x : str(x) != 'nan', data.text))\n",
    "temp_hashtags = list(filter(lambda x : str(x) != 'nan', data.hashtags))\n",
    "\n",
    "#Converting to lowercase\n",
    "temp_text = [\" \".join(line.lower().strip().split()) for line in temp_text]\n",
    "temp_hashtags = [\" \".join(line.lower().strip().split()) for line in temp_hashtags]\n",
    "\n",
    "print(len(temp_text))\n",
    "print(len(temp_hashtags))"
   ]
  },
  {
   "cell_type": "code",
   "execution_count": 169,
   "id": "sunrise-distinction",
   "metadata": {
    "ExecuteTime": {
     "end_time": "2021-02-26T09:37:55.650386Z",
     "start_time": "2021-02-26T09:37:55.597821Z"
    }
   },
   "outputs": [
    {
     "name": "stdout",
     "output_type": "stream",
     "text": [
      "60807\n"
     ]
    }
   ],
   "source": [
    "# Since there are multiple hashtags present in data and spliited by space, we have to seperate them\n",
    "new_temp_hashtags = []\n",
    "for line in temp_hashtags:\n",
    "    new_temp_hashtags.extend(line.split())\n",
    "\n",
    "new_temp_hashtags = ['#' + hashtag for hashtag in new_temp_hashtags]\n",
    "\n",
    "# Removing Punctuations except @ as only one username will be present\n",
    "line = line.translate(str.maketrans('', '', '!\"$%&\\'()*+,-./:;#<=>?[\\\\]^_`{|}~'))\n",
    "    \n",
    "# Removing Numbers\n",
    "line = re.sub(r'\\d+', '', line)\n",
    "\n",
    "print(len(new_temp_hashtags)) "
   ]
  },
  {
   "cell_type": "code",
   "execution_count": 170,
   "id": "caring-boost",
   "metadata": {
    "ExecuteTime": {
     "end_time": "2021-02-26T09:37:55.680294Z",
     "start_time": "2021-02-26T09:37:55.654898Z"
    }
   },
   "outputs": [],
   "source": [
    "# Cleaning lines\n",
    "\n",
    "# Not removing mentions or @usernames from tweets as tweet might become unreadable\n",
    "# But removing @usernames if present at start as it indicates it is a retweet.\n",
    "\n",
    "# Collects hastags used in tweets\n",
    "hashtags = dict()\n",
    "def removing_usernames_and_collecting_hashtags(line):\n",
    "    data = line.split()\n",
    "    if len(data) < 1:\n",
    "        return line\n",
    "    \n",
    "    for item in data[1:] if data[0][0] == '@' else data: # Because after spliiting if userid present then it will always be at index 0 and will be key\n",
    "        if item[0] == '#':\n",
    "            if item in hashtags:\n",
    "                hashtags[item] += 1\n",
    "            else:\n",
    "                hashtags[item] = 1\n",
    "        elif item[0] == '@':\n",
    "            data.remove(item)\n",
    "    return \" \".join(data)\n",
    "\n",
    "def clean_line(line):\n",
    "    line = line.lower().encode('ascii', errors = 'ignore').decode() # Converting to lower case will remove emojis [pure text]\n",
    "    line = \" \".join(line.strip().split()) # Split will automatically remove escape characters\n",
    "    \n",
    "    # Removing links\n",
    "    line = re.sub(r'''(?i)\\b((?:https?://|www\\d{0,3}[.]|[a-z0-9.\\-]+[.][a-z]{2,4}/)(?:[^\\s()<>]+|\\(([^\\s()<>]+|(\\([^\\s()<>]+\\)))*\\))+(?:\\(([^\\s()<>]+|(\\([^\\s()<>]+\\)))*\\)|[^\\s`!()\\[\\]{};:'\".,<>?«»“”‘’]))''', '', line)\n",
    "    \n",
    "    # Collecting and removing usernames and hashtags\n",
    "    line = removing_usernames_and_collecting_hashtags(line)\n",
    "    \n",
    "    # Removing Punctuations except @ as only one username will be present\n",
    "    line = line.translate(str.maketrans('', '', '!\"$%&\\'()*+,-./:;#<=>?[\\\\]^_`{|}~'))\n",
    "    \n",
    "    # Removing Numbers\n",
    "    line = re.sub(r'\\d+', '', line)\n",
    "    \n",
    "    \"\"\"\n",
    "    # Removing emojis\n",
    "    regrex_pattern = re.compile(\"[\"\n",
    "        u\"\\U0001F600-\\U0001F64F\"  # emoticons\n",
    "        u\"\\U0001F300-\\U0001F5FF\"  # symbols & pictographs\n",
    "        u\"\\U0001F680-\\U0001F6FF\"  # transport & map symbols\n",
    "        u\"\\U0001F1E0-\\U0001F1FF\"  # flags (iOS)\n",
    "        u\"\\U00002500-\\U00002BEF\"  # chinese char\n",
    "        u\"\\U00002702-\\U000027B0\"\n",
    "        u\"\\U00002702-\\U000027B0\"\n",
    "        u\"\\U000024C2-\\U0001F251\"\n",
    "        u\"\\U0001f926-\\U0001f937\"\n",
    "        u\"\\U00010000-\\U0010ffff\"\n",
    "        u\"\\u2640-\\u2642\" \n",
    "        u\"\\u2600-\\u2B55\"\n",
    "        u\"\\u200d\"\n",
    "        u\"\\u23cf\"\n",
    "        u\"\\u23e9\"\n",
    "        u\"\\u231a\"\n",
    "        u\"\\ufe0f\"  # dingbats\n",
    "        u\"\\u3030\"\"]+\", re.UNICODE)\n",
    "    \n",
    "    line = regrex_pattern.sub(r'',line)\n",
    "    \"\"\"\n",
    "\n",
    "    # Removing stopwords\n",
    "    stopword = stopwords.words('english')\n",
    "    word_tokens = line.split()\n",
    "    line_words = [word for word in word_tokens if word not in stopword]\n",
    "    \n",
    "    # Removing Profanity Words\n",
    "    profanity = set()\n",
    "    with open('Profanity.txt', mode = 'r') as text_profanity:\n",
    "        reader = text_profanity.readlines()\n",
    "        for word in reader:\n",
    "            profanity.add(word.replace('\\n', ''))\n",
    "    line_words = [word for word in line_words if word not in profanity]\n",
    "    \n",
    "    # Stemming\n",
    "    #line_words = [PorterStemmer().stem(word) for word in line_words]\n",
    "    \n",
    "    # Lemmatize\n",
    "    line_words = [WordNetLemmatizer().lemmatize(word, pos = 'v') for word in line_words] # lemmatize parts of speech(pos)\n",
    "    \n",
    "    line = \" \".join(line_words)\n",
    "    return line    "
   ]
  },
  {
   "cell_type": "code",
   "execution_count": 171,
   "id": "approved-integer",
   "metadata": {
    "ExecuteTime": {
     "end_time": "2021-02-26T09:39:09.602197Z",
     "start_time": "2021-02-26T09:37:55.684033Z"
    }
   },
   "outputs": [],
   "source": [
    "tweets = []\n",
    "\n",
    "for line in temp_text:\n",
    "        if line == '\\n':\n",
    "            continue\n",
    "        line = clean_line(line) # Cleaning line by calling function\n",
    "        if line == '': # If empty string\n",
    "            continue\n",
    "        tweets.append(line)"
   ]
  },
  {
   "cell_type": "code",
   "execution_count": 172,
   "id": "prospective-marina",
   "metadata": {
    "ExecuteTime": {
     "end_time": "2021-02-26T09:39:09.617953Z",
     "start_time": "2021-02-26T09:39:09.606173Z"
    }
   },
   "outputs": [
    {
     "name": "stdout",
     "output_type": "stream",
     "text": [
      "['meditation mindfulness tip cop corona virus pandemicas people become anxious selfquarantine homeexperts recommend mindfulness meditation practice prove', 'contribute india fight corona gandhinagar gujarat', '@delhipolice sir please send team immediately sanitize build', 'sscufmmatkarona corona slow poison ufm instant killer thousands genuine aspirants @pmoindia', 'mata di doston ise corona ke tarah faila bhai please like share comment subscribe channel youtube pritamkumarmurari support voice', '@chintskap mum phd corona virus whatsapp university', '@funnyhammy dumbo amount count today emergency period countries announce billions dollars corona combat feku fool people like', 'first allow corona possessions stop kirana shop clearly nany bhakts listen modi anymore certainly yogi', '@tvmarathi kindly help us break chain corona', 'safe home corona busy infect people spread like wild fire home assure familyfriends amp everyone feel important safe amp sound remember corona bahar bulati hai magar jaaneka nahidayslockdown']\n",
      "\n",
      "Total tweets :  44158\n"
     ]
    }
   ],
   "source": [
    "print(tweets[:10])\n",
    "print('\\nTotal tweets : ', len(tweets))"
   ]
  },
  {
   "cell_type": "code",
   "execution_count": 173,
   "id": "friendly-database",
   "metadata": {
    "ExecuteTime": {
     "end_time": "2021-02-26T09:39:09.678766Z",
     "start_time": "2021-02-26T09:39:09.621838Z"
    }
   },
   "outputs": [],
   "source": [
    "# Adding hashtags to collected hashtags\n",
    "for hashtag in new_temp_hashtags:\n",
    "    if hashtag in hashtags:\n",
    "        hashtags[hashtag] += 1\n",
    "    else:\n",
    "        hashtags[hashtag] = 1"
   ]
  },
  {
   "cell_type": "code",
   "execution_count": 174,
   "id": "spread-agenda",
   "metadata": {
    "ExecuteTime": {
     "end_time": "2021-02-26T09:39:09.691198Z",
     "start_time": "2021-02-26T09:39:09.681778Z"
    },
    "scrolled": true
   },
   "outputs": [
    {
     "name": "stdout",
     "output_type": "stream",
     "text": [
      "yet_total_hashtags :  14754\n"
     ]
    }
   ],
   "source": [
    "# total hashtags\n",
    "\n",
    "#print(hashtags)\n",
    "print('yet_total_hashtags : ', len(hashtags))"
   ]
  },
  {
   "cell_type": "markdown",
   "id": "empirical-cement",
   "metadata": {},
   "source": [
    "#### Converting created_at timestamp to datetime format"
   ]
  },
  {
   "cell_type": "code",
   "execution_count": 175,
   "id": "respective-poison",
   "metadata": {
    "ExecuteTime": {
     "end_time": "2021-02-26T09:39:25.239430Z",
     "start_time": "2021-02-26T09:39:09.695470Z"
    }
   },
   "outputs": [
    {
     "data": {
      "text/plain": [
       "(Timestamp('2020-05-07 03:48:08+0000', tz='UTC'),\n",
       " Timestamp('2020-03-25 06:02:40+0000', tz='UTC'))"
      ]
     },
     "execution_count": 175,
     "metadata": {},
     "output_type": "execute_result"
    }
   ],
   "source": [
    "# Converting datatime of created at in valid or datetime format\n",
    "\n",
    "data.created_at = pd.to_datetime(data.created_at)\n",
    "data.created_at.max(), data.created_at.min()"
   ]
  },
  {
   "cell_type": "code",
   "execution_count": 176,
   "id": "operating-location",
   "metadata": {
    "ExecuteTime": {
     "end_time": "2021-02-26T09:39:36.476826Z",
     "start_time": "2021-02-26T09:39:25.240886Z"
    }
   },
   "outputs": [],
   "source": [
    "# Maintaining readable format\n",
    "data.created_at = pd.to_datetime(data.created_at.dt.strftime(\"%d/%m/%y %H:%M:%S\"))"
   ]
  },
  {
   "cell_type": "code",
   "execution_count": 177,
   "id": "bored-creek",
   "metadata": {
    "ExecuteTime": {
     "end_time": "2021-02-26T09:39:36.560431Z",
     "start_time": "2021-02-26T09:39:36.480744Z"
    }
   },
   "outputs": [
    {
     "data": {
      "text/html": [
       "<div>\n",
       "<style scoped>\n",
       "    .dataframe tbody tr th:only-of-type {\n",
       "        vertical-align: middle;\n",
       "    }\n",
       "\n",
       "    .dataframe tbody tr th {\n",
       "        vertical-align: top;\n",
       "    }\n",
       "\n",
       "    .dataframe thead th {\n",
       "        text-align: right;\n",
       "    }\n",
       "</style>\n",
       "<table border=\"1\" class=\"dataframe\">\n",
       "  <thead>\n",
       "    <tr style=\"text-align: right;\">\n",
       "      <th></th>\n",
       "      <th>favorite_count</th>\n",
       "      <th>id</th>\n",
       "      <th>retweet_count</th>\n",
       "      <th>user_favourites_count</th>\n",
       "      <th>user_followers_count</th>\n",
       "      <th>user_friends_count</th>\n",
       "      <th>user_listed_count</th>\n",
       "      <th>user_statuses_count</th>\n",
       "    </tr>\n",
       "  </thead>\n",
       "  <tbody>\n",
       "    <tr>\n",
       "      <th>count</th>\n",
       "      <td>44179.000000</td>\n",
       "      <td>4.417900e+04</td>\n",
       "      <td>44179.000000</td>\n",
       "      <td>44179.000000</td>\n",
       "      <td>4.417900e+04</td>\n",
       "      <td>44179.000000</td>\n",
       "      <td>44179.000000</td>\n",
       "      <td>4.417900e+04</td>\n",
       "    </tr>\n",
       "    <tr>\n",
       "      <th>mean</th>\n",
       "      <td>8.688834</td>\n",
       "      <td>1.249746e+18</td>\n",
       "      <td>2.037122</td>\n",
       "      <td>15413.078906</td>\n",
       "      <td>6.076601e+03</td>\n",
       "      <td>908.844723</td>\n",
       "      <td>15.648951</td>\n",
       "      <td>1.830381e+04</td>\n",
       "    </tr>\n",
       "    <tr>\n",
       "      <th>std</th>\n",
       "      <td>690.196275</td>\n",
       "      <td>5.513385e+15</td>\n",
       "      <td>110.332251</td>\n",
       "      <td>42971.397214</td>\n",
       "      <td>1.494865e+05</td>\n",
       "      <td>5802.053827</td>\n",
       "      <td>86.748546</td>\n",
       "      <td>5.619829e+04</td>\n",
       "    </tr>\n",
       "    <tr>\n",
       "      <th>min</th>\n",
       "      <td>0.000000</td>\n",
       "      <td>1.242693e+18</td>\n",
       "      <td>0.000000</td>\n",
       "      <td>0.000000</td>\n",
       "      <td>0.000000e+00</td>\n",
       "      <td>0.000000</td>\n",
       "      <td>0.000000</td>\n",
       "      <td>1.000000e+00</td>\n",
       "    </tr>\n",
       "    <tr>\n",
       "      <th>25%</th>\n",
       "      <td>0.000000</td>\n",
       "      <td>1.244130e+18</td>\n",
       "      <td>0.000000</td>\n",
       "      <td>233.000000</td>\n",
       "      <td>3.400000e+01</td>\n",
       "      <td>98.000000</td>\n",
       "      <td>0.000000</td>\n",
       "      <td>3.990000e+02</td>\n",
       "    </tr>\n",
       "    <tr>\n",
       "      <th>50%</th>\n",
       "      <td>0.000000</td>\n",
       "      <td>1.250482e+18</td>\n",
       "      <td>0.000000</td>\n",
       "      <td>2192.000000</td>\n",
       "      <td>1.750000e+02</td>\n",
       "      <td>293.000000</td>\n",
       "      <td>0.000000</td>\n",
       "      <td>2.476000e+03</td>\n",
       "    </tr>\n",
       "    <tr>\n",
       "      <th>75%</th>\n",
       "      <td>1.000000</td>\n",
       "      <td>1.256266e+18</td>\n",
       "      <td>0.000000</td>\n",
       "      <td>11439.000000</td>\n",
       "      <td>8.890000e+02</td>\n",
       "      <td>843.000000</td>\n",
       "      <td>5.000000</td>\n",
       "      <td>1.330600e+04</td>\n",
       "    </tr>\n",
       "    <tr>\n",
       "      <th>max</th>\n",
       "      <td>144012.000000</td>\n",
       "      <td>1.258242e+18</td>\n",
       "      <td>22549.000000</td>\n",
       "      <td>638151.000000</td>\n",
       "      <td>1.827721e+07</td>\n",
       "      <td>316697.000000</td>\n",
       "      <td>5775.000000</td>\n",
       "      <td>2.117851e+06</td>\n",
       "    </tr>\n",
       "  </tbody>\n",
       "</table>\n",
       "</div>"
      ],
      "text/plain": [
       "       favorite_count            id  retweet_count  user_favourites_count  \\\n",
       "count    44179.000000  4.417900e+04   44179.000000           44179.000000   \n",
       "mean         8.688834  1.249746e+18       2.037122           15413.078906   \n",
       "std        690.196275  5.513385e+15     110.332251           42971.397214   \n",
       "min          0.000000  1.242693e+18       0.000000               0.000000   \n",
       "25%          0.000000  1.244130e+18       0.000000             233.000000   \n",
       "50%          0.000000  1.250482e+18       0.000000            2192.000000   \n",
       "75%          1.000000  1.256266e+18       0.000000           11439.000000   \n",
       "max     144012.000000  1.258242e+18   22549.000000          638151.000000   \n",
       "\n",
       "       user_followers_count  user_friends_count  user_listed_count  \\\n",
       "count          4.417900e+04        44179.000000       44179.000000   \n",
       "mean           6.076601e+03          908.844723          15.648951   \n",
       "std            1.494865e+05         5802.053827          86.748546   \n",
       "min            0.000000e+00            0.000000           0.000000   \n",
       "25%            3.400000e+01           98.000000           0.000000   \n",
       "50%            1.750000e+02          293.000000           0.000000   \n",
       "75%            8.890000e+02          843.000000           5.000000   \n",
       "max            1.827721e+07       316697.000000        5775.000000   \n",
       "\n",
       "       user_statuses_count  \n",
       "count         4.417900e+04  \n",
       "mean          1.830381e+04  \n",
       "std           5.619829e+04  \n",
       "min           1.000000e+00  \n",
       "25%           3.990000e+02  \n",
       "50%           2.476000e+03  \n",
       "75%           1.330600e+04  \n",
       "max           2.117851e+06  "
      ]
     },
     "execution_count": 177,
     "metadata": {},
     "output_type": "execute_result"
    }
   ],
   "source": [
    "data.describe()"
   ]
  },
  {
   "cell_type": "code",
   "execution_count": 178,
   "id": "joined-charles",
   "metadata": {
    "ExecuteTime": {
     "end_time": "2021-02-26T09:39:36.641624Z",
     "start_time": "2021-02-26T09:39:36.567775Z"
    }
   },
   "outputs": [
    {
     "name": "stdout",
     "output_type": "stream",
     "text": [
      "<class 'pandas.core.frame.DataFrame'>\n",
      "RangeIndex: 44179 entries, 0 to 44178\n",
      "Data columns (total 19 columns):\n",
      " #   Column                 Non-Null Count  Dtype         \n",
      "---  ------                 --------------  -----         \n",
      " 0   created_at             44179 non-null  datetime64[ns]\n",
      " 1   hashtags               17907 non-null  object        \n",
      " 2   favorite_count         44179 non-null  int64         \n",
      " 3   id                     44179 non-null  int64         \n",
      " 4   lang                   44179 non-null  object        \n",
      " 5   place                  44162 non-null  object        \n",
      " 6   retweet_count          44179 non-null  int64         \n",
      " 7   text                   44179 non-null  object        \n",
      " 8   tweet_url              44179 non-null  object        \n",
      " 9   user_screen_name       44179 non-null  object        \n",
      " 10  user_description       37905 non-null  object        \n",
      " 11  user_favourites_count  44179 non-null  int64         \n",
      " 12  user_followers_count   44179 non-null  int64         \n",
      " 13  user_friends_count     44179 non-null  int64         \n",
      " 14  user_listed_count      44179 non-null  int64         \n",
      " 15  user_location          37502 non-null  object        \n",
      " 16  user_name              44176 non-null  object        \n",
      " 17  user_screen_name.1     44179 non-null  object        \n",
      " 18  user_statuses_count    44179 non-null  int64         \n",
      "dtypes: datetime64[ns](1), int64(8), object(10)\n",
      "memory usage: 6.4+ MB\n"
     ]
    }
   ],
   "source": [
    "data.info()"
   ]
  },
  {
   "cell_type": "markdown",
   "id": "going-walter",
   "metadata": {},
   "source": [
    "- ***Since we have collected Tweets and hashtags, we dont need them in dataframe anymore.***\n",
    "- ***We dont need id column as data doesn't make difference.***"
   ]
  },
  {
   "cell_type": "code",
   "execution_count": 179,
   "id": "convenient-brass",
   "metadata": {
    "ExecuteTime": {
     "end_time": "2021-02-26T09:39:36.735839Z",
     "start_time": "2021-02-26T09:39:36.646555Z"
    }
   },
   "outputs": [
    {
     "name": "stdout",
     "output_type": "stream",
     "text": [
      "<class 'pandas.core.frame.DataFrame'>\n",
      "RangeIndex: 44179 entries, 0 to 44178\n",
      "Data columns (total 16 columns):\n",
      " #   Column                 Non-Null Count  Dtype         \n",
      "---  ------                 --------------  -----         \n",
      " 0   created_at             44179 non-null  datetime64[ns]\n",
      " 1   favorite_count         44179 non-null  int64         \n",
      " 2   lang                   44179 non-null  object        \n",
      " 3   place                  44162 non-null  object        \n",
      " 4   retweet_count          44179 non-null  int64         \n",
      " 5   tweet_url              44179 non-null  object        \n",
      " 6   user_screen_name       44179 non-null  object        \n",
      " 7   user_description       37905 non-null  object        \n",
      " 8   user_favourites_count  44179 non-null  int64         \n",
      " 9   user_followers_count   44179 non-null  int64         \n",
      " 10  user_friends_count     44179 non-null  int64         \n",
      " 11  user_listed_count      44179 non-null  int64         \n",
      " 12  user_location          37502 non-null  object        \n",
      " 13  user_name              44176 non-null  object        \n",
      " 14  user_screen_name.1     44179 non-null  object        \n",
      " 15  user_statuses_count    44179 non-null  int64         \n",
      "dtypes: datetime64[ns](1), int64(7), object(8)\n",
      "memory usage: 5.4+ MB\n"
     ]
    }
   ],
   "source": [
    "# Dropping unnecessary columns\n",
    "\n",
    "data.drop(['hashtags', 'text', 'id'], inplace = True, axis = 1);\n",
    "data.info();"
   ]
  },
  {
   "cell_type": "markdown",
   "id": "cooperative-glasgow",
   "metadata": {},
   "source": [
    "#### Now, removing null values"
   ]
  },
  {
   "cell_type": "code",
   "execution_count": 180,
   "id": "ranking-mailing",
   "metadata": {
    "ExecuteTime": {
     "end_time": "2021-02-26T09:39:36.922701Z",
     "start_time": "2021-02-26T09:39:36.738875Z"
    }
   },
   "outputs": [],
   "source": [
    "# Now removing data with null values and duplicates\n",
    "\n",
    "data.duplicated().sum()\n",
    "data.dropna(inplace = True)"
   ]
  },
  {
   "cell_type": "code",
   "execution_count": 181,
   "id": "superior-invalid",
   "metadata": {
    "ExecuteTime": {
     "end_time": "2021-02-26T09:39:36.977784Z",
     "start_time": "2021-02-26T09:39:36.926622Z"
    }
   },
   "outputs": [
    {
     "name": "stdout",
     "output_type": "stream",
     "text": [
      "<class 'pandas.core.frame.DataFrame'>\n",
      "Int64Index: 33991 entries, 0 to 44178\n",
      "Data columns (total 16 columns):\n",
      " #   Column                 Non-Null Count  Dtype         \n",
      "---  ------                 --------------  -----         \n",
      " 0   created_at             33991 non-null  datetime64[ns]\n",
      " 1   favorite_count         33991 non-null  int64         \n",
      " 2   lang                   33991 non-null  object        \n",
      " 3   place                  33991 non-null  object        \n",
      " 4   retweet_count          33991 non-null  int64         \n",
      " 5   tweet_url              33991 non-null  object        \n",
      " 6   user_screen_name       33991 non-null  object        \n",
      " 7   user_description       33991 non-null  object        \n",
      " 8   user_favourites_count  33991 non-null  int64         \n",
      " 9   user_followers_count   33991 non-null  int64         \n",
      " 10  user_friends_count     33991 non-null  int64         \n",
      " 11  user_listed_count      33991 non-null  int64         \n",
      " 12  user_location          33991 non-null  object        \n",
      " 13  user_name              33991 non-null  object        \n",
      " 14  user_screen_name.1     33991 non-null  object        \n",
      " 15  user_statuses_count    33991 non-null  int64         \n",
      "dtypes: datetime64[ns](1), int64(7), object(8)\n",
      "memory usage: 4.4+ MB\n"
     ]
    }
   ],
   "source": [
    "# Info of final dataset\n",
    "data.info()"
   ]
  },
  {
   "cell_type": "code",
   "execution_count": 182,
   "id": "muslim-julian",
   "metadata": {
    "ExecuteTime": {
     "end_time": "2021-02-26T09:39:37.032146Z",
     "start_time": "2021-02-26T09:39:36.982265Z"
    }
   },
   "outputs": [
    {
     "data": {
      "text/html": [
       "<div>\n",
       "<style scoped>\n",
       "    .dataframe tbody tr th:only-of-type {\n",
       "        vertical-align: middle;\n",
       "    }\n",
       "\n",
       "    .dataframe tbody tr th {\n",
       "        vertical-align: top;\n",
       "    }\n",
       "\n",
       "    .dataframe thead th {\n",
       "        text-align: right;\n",
       "    }\n",
       "</style>\n",
       "<table border=\"1\" class=\"dataframe\">\n",
       "  <thead>\n",
       "    <tr style=\"text-align: right;\">\n",
       "      <th></th>\n",
       "      <th>created_at</th>\n",
       "      <th>favorite_count</th>\n",
       "      <th>lang</th>\n",
       "      <th>place</th>\n",
       "      <th>retweet_count</th>\n",
       "      <th>tweet_url</th>\n",
       "      <th>user_screen_name</th>\n",
       "      <th>user_description</th>\n",
       "      <th>user_favourites_count</th>\n",
       "      <th>user_followers_count</th>\n",
       "      <th>user_friends_count</th>\n",
       "      <th>user_listed_count</th>\n",
       "      <th>user_location</th>\n",
       "      <th>user_name</th>\n",
       "      <th>user_screen_name.1</th>\n",
       "      <th>user_statuses_count</th>\n",
       "    </tr>\n",
       "  </thead>\n",
       "  <tbody>\n",
       "    <tr>\n",
       "      <th>42950</th>\n",
       "      <td>2020-06-05 07:15:39</td>\n",
       "      <td>0</td>\n",
       "      <td>en</td>\n",
       "      <td>Hospet, India</td>\n",
       "      <td>0</td>\n",
       "      <td>https://twitter.com/veeranna_kambli/status/125...</td>\n",
       "      <td>veeranna_kambli</td>\n",
       "      <td>Do more of what makes u smileüòä. # Mechanica...</td>\n",
       "      <td>14034</td>\n",
       "      <td>69</td>\n",
       "      <td>465</td>\n",
       "      <td>0</td>\n",
       "      <td>Bengaluru South, India</td>\n",
       "      <td>Veeranna Kambli</td>\n",
       "      <td>veeranna_kambli</td>\n",
       "      <td>438</td>\n",
       "    </tr>\n",
       "    <tr>\n",
       "      <th>32595</th>\n",
       "      <td>2020-01-05 11:36:36</td>\n",
       "      <td>0</td>\n",
       "      <td>en</td>\n",
       "      <td>Guwahati, India</td>\n",
       "      <td>0</td>\n",
       "      <td>https://twitter.com/AnkurGit/status/1256185751...</td>\n",
       "      <td>AnkurGit</td>\n",
       "      <td>Student of Law/BALLB (First Year)</td>\n",
       "      <td>32953</td>\n",
       "      <td>46</td>\n",
       "      <td>18</td>\n",
       "      <td>0</td>\n",
       "      <td>Guwahati, Assam, IndiaüáÆüá≥</td>\n",
       "      <td>Ankur Deka</td>\n",
       "      <td>AnkurGit</td>\n",
       "      <td>5234</td>\n",
       "    </tr>\n",
       "    <tr>\n",
       "      <th>34007</th>\n",
       "      <td>2020-02-05 06:36:17</td>\n",
       "      <td>4</td>\n",
       "      <td>en</td>\n",
       "      <td>Mumbai, India</td>\n",
       "      <td>1</td>\n",
       "      <td>https://twitter.com/lifeofapatrakar/status/125...</td>\n",
       "      <td>lifeofapatrakar</td>\n",
       "      <td>Writer, Researcher, Education Reporter. TISS A...</td>\n",
       "      <td>5448</td>\n",
       "      <td>2287</td>\n",
       "      <td>1782</td>\n",
       "      <td>21</td>\n",
       "      <td>Mumbai, India</td>\n",
       "      <td>Ankita Bhatkhande</td>\n",
       "      <td>lifeofapatrakar</td>\n",
       "      <td>3827</td>\n",
       "    </tr>\n",
       "    <tr>\n",
       "      <th>13713</th>\n",
       "      <td>2020-03-31 04:37:42</td>\n",
       "      <td>4</td>\n",
       "      <td>en</td>\n",
       "      <td>Lucknow, India</td>\n",
       "      <td>1</td>\n",
       "      <td>https://twitter.com/abhishek6164/status/124484...</td>\n",
       "      <td>abhishek6164</td>\n",
       "      <td>Editor @aajtak @IndiaToday, Bureau Chief UP.\\n...</td>\n",
       "      <td>3786</td>\n",
       "      <td>7936</td>\n",
       "      <td>984</td>\n",
       "      <td>22</td>\n",
       "      <td>Lucknow, India</td>\n",
       "      <td>kumar abhishek.</td>\n",
       "      <td>abhishek6164</td>\n",
       "      <td>4586</td>\n",
       "    </tr>\n",
       "    <tr>\n",
       "      <th>11809</th>\n",
       "      <td>2020-03-29 10:14:09</td>\n",
       "      <td>1</td>\n",
       "      <td>en</td>\n",
       "      <td>Saidapet, India</td>\n",
       "      <td>1</td>\n",
       "      <td>https://twitter.com/muralwrites/status/1244206...</td>\n",
       "      <td>muralwrites</td>\n",
       "      <td>Public Relations practitioner - Freelance cont...</td>\n",
       "      <td>18337</td>\n",
       "      <td>4259</td>\n",
       "      <td>2962</td>\n",
       "      <td>108</td>\n",
       "      <td>Chennai, India</td>\n",
       "      <td>murali</td>\n",
       "      <td>muralwrites</td>\n",
       "      <td>91795</td>\n",
       "    </tr>\n",
       "    <tr>\n",
       "      <th>31565</th>\n",
       "      <td>2020-04-21 03:46:15</td>\n",
       "      <td>4</td>\n",
       "      <td>en</td>\n",
       "      <td>Chandigarh, India</td>\n",
       "      <td>1</td>\n",
       "      <td>https://twitter.com/drqayumiitk/status/1252443...</td>\n",
       "      <td>drqayumiitk</td>\n",
       "      <td>AGMUT Cadre‚Ä¢ Forest‚Ä¢ Wildlife‚Ä¢ Environme...</td>\n",
       "      <td>13410</td>\n",
       "      <td>10716</td>\n",
       "      <td>428</td>\n",
       "      <td>35</td>\n",
       "      <td>Chandigarh, India</td>\n",
       "      <td>Dr Abdul Qayum, IFS</td>\n",
       "      <td>drqayumiitk</td>\n",
       "      <td>3847</td>\n",
       "    </tr>\n",
       "    <tr>\n",
       "      <th>30667</th>\n",
       "      <td>2020-04-20 10:14:38</td>\n",
       "      <td>1</td>\n",
       "      <td>en</td>\n",
       "      <td>Chandigarh, India</td>\n",
       "      <td>0</td>\n",
       "      <td>https://twitter.com/navkamboj/status/125217885...</td>\n",
       "      <td>navkamboj</td>\n",
       "      <td>Tweets are personal &amp; on a lighter note...</td>\n",
       "      <td>30898</td>\n",
       "      <td>166</td>\n",
       "      <td>773</td>\n",
       "      <td>1</td>\n",
       "      <td>Bharat</td>\n",
       "      <td>Uddta Punjab</td>\n",
       "      <td>navkamboj</td>\n",
       "      <td>31048</td>\n",
       "    </tr>\n",
       "    <tr>\n",
       "      <th>34533</th>\n",
       "      <td>2020-02-05 10:18:47</td>\n",
       "      <td>0</td>\n",
       "      <td>en</td>\n",
       "      <td>Kolkata, India</td>\n",
       "      <td>0</td>\n",
       "      <td>https://twitter.com/BittuGurjant/status/125652...</td>\n",
       "      <td>BittuGurjant</td>\n",
       "      <td>WANT to become MP from DUM DUM (N) Kolkata on ...</td>\n",
       "      <td>109</td>\n",
       "      <td>19</td>\n",
       "      <td>24</td>\n",
       "      <td>0</td>\n",
       "      <td>Dum Dum, Kolkata</td>\n",
       "      <td>GURRJANT SINGH MANUKA (ARJAN)</td>\n",
       "      <td>BittuGurjant</td>\n",
       "      <td>1489</td>\n",
       "    </tr>\n",
       "    <tr>\n",
       "      <th>1063</th>\n",
       "      <td>2020-03-25 13:24:55</td>\n",
       "      <td>1</td>\n",
       "      <td>en</td>\n",
       "      <td>Ranchi, India</td>\n",
       "      <td>0</td>\n",
       "      <td>https://twitter.com/kumaratul500/status/124280...</td>\n",
       "      <td>kumaratul500</td>\n",
       "      <td>go with flow..</td>\n",
       "      <td>139</td>\n",
       "      <td>8</td>\n",
       "      <td>228</td>\n",
       "      <td>0</td>\n",
       "      <td>Ranchi, India</td>\n",
       "      <td>Atul Kumar Gupta</td>\n",
       "      <td>kumaratul500</td>\n",
       "      <td>320</td>\n",
       "    </tr>\n",
       "    <tr>\n",
       "      <th>36368</th>\n",
       "      <td>2020-03-05 06:18:54</td>\n",
       "      <td>0</td>\n",
       "      <td>en</td>\n",
       "      <td>Bengaluru South, India</td>\n",
       "      <td>0</td>\n",
       "      <td>https://twitter.com/gn_vikram/status/125683057...</td>\n",
       "      <td>gn_vikram</td>\n",
       "      <td>I am not the doer. Things happen through me as...</td>\n",
       "      <td>625</td>\n",
       "      <td>54</td>\n",
       "      <td>341</td>\n",
       "      <td>3</td>\n",
       "      <td>Bangalore</td>\n",
       "      <td>Gajendra Vikram</td>\n",
       "      <td>gn_vikram</td>\n",
       "      <td>940</td>\n",
       "    </tr>\n",
       "  </tbody>\n",
       "</table>\n",
       "</div>"
      ],
      "text/plain": [
       "               created_at  favorite_count lang                   place  \\\n",
       "42950 2020-06-05 07:15:39               0   en           Hospet, India   \n",
       "32595 2020-01-05 11:36:36               0   en         Guwahati, India   \n",
       "34007 2020-02-05 06:36:17               4   en           Mumbai, India   \n",
       "13713 2020-03-31 04:37:42               4   en          Lucknow, India   \n",
       "11809 2020-03-29 10:14:09               1   en         Saidapet, India   \n",
       "31565 2020-04-21 03:46:15               4   en       Chandigarh, India   \n",
       "30667 2020-04-20 10:14:38               1   en       Chandigarh, India   \n",
       "34533 2020-02-05 10:18:47               0   en          Kolkata, India   \n",
       "1063  2020-03-25 13:24:55               1   en           Ranchi, India   \n",
       "36368 2020-03-05 06:18:54               0   en  Bengaluru South, India   \n",
       "\n",
       "       retweet_count                                          tweet_url  \\\n",
       "42950              0  https://twitter.com/veeranna_kambli/status/125...   \n",
       "32595              0  https://twitter.com/AnkurGit/status/1256185751...   \n",
       "34007              1  https://twitter.com/lifeofapatrakar/status/125...   \n",
       "13713              1  https://twitter.com/abhishek6164/status/124484...   \n",
       "11809              1  https://twitter.com/muralwrites/status/1244206...   \n",
       "31565              1  https://twitter.com/drqayumiitk/status/1252443...   \n",
       "30667              0  https://twitter.com/navkamboj/status/125217885...   \n",
       "34533              0  https://twitter.com/BittuGurjant/status/125652...   \n",
       "1063               0  https://twitter.com/kumaratul500/status/124280...   \n",
       "36368              0  https://twitter.com/gn_vikram/status/125683057...   \n",
       "\n",
       "      user_screen_name                                   user_description  \\\n",
       "42950  veeranna_kambli  Do more of what makes u smileüòä. # Mechanica...   \n",
       "32595         AnkurGit                  Student of Law/BALLB (First Year)   \n",
       "34007  lifeofapatrakar  Writer, Researcher, Education Reporter. TISS A...   \n",
       "13713     abhishek6164  Editor @aajtak @IndiaToday, Bureau Chief UP.\\n...   \n",
       "11809      muralwrites  Public Relations practitioner - Freelance cont...   \n",
       "31565      drqayumiitk  AGMUT Cadre‚Ä¢ Forest‚Ä¢ Wildlife‚Ä¢ Environme...   \n",
       "30667        navkamboj         Tweets are personal & on a lighter note...   \n",
       "34533     BittuGurjant  WANT to become MP from DUM DUM (N) Kolkata on ...   \n",
       "1063      kumaratul500                                     go with flow..   \n",
       "36368        gn_vikram  I am not the doer. Things happen through me as...   \n",
       "\n",
       "       user_favourites_count  user_followers_count  user_friends_count  \\\n",
       "42950                  14034                    69                 465   \n",
       "32595                  32953                    46                  18   \n",
       "34007                   5448                  2287                1782   \n",
       "13713                   3786                  7936                 984   \n",
       "11809                  18337                  4259                2962   \n",
       "31565                  13410                 10716                 428   \n",
       "30667                  30898                   166                 773   \n",
       "34533                    109                    19                  24   \n",
       "1063                     139                     8                 228   \n",
       "36368                    625                    54                 341   \n",
       "\n",
       "       user_listed_count                   user_location  \\\n",
       "42950                  0          Bengaluru South, India   \n",
       "32595                  0  Guwahati, Assam, IndiaüáÆüá≥   \n",
       "34007                 21                   Mumbai, India   \n",
       "13713                 22                  Lucknow, India   \n",
       "11809                108                  Chennai, India   \n",
       "31565                 35               Chandigarh, India   \n",
       "30667                  1                          Bharat   \n",
       "34533                  0                Dum Dum, Kolkata   \n",
       "1063                   0                   Ranchi, India   \n",
       "36368                  3                       Bangalore   \n",
       "\n",
       "                           user_name user_screen_name.1  user_statuses_count  \n",
       "42950                Veeranna Kambli    veeranna_kambli                  438  \n",
       "32595                     Ankur Deka           AnkurGit                 5234  \n",
       "34007              Ankita Bhatkhande    lifeofapatrakar                 3827  \n",
       "13713                kumar abhishek.       abhishek6164                 4586  \n",
       "11809                         murali        muralwrites                91795  \n",
       "31565            Dr Abdul Qayum, IFS        drqayumiitk                 3847  \n",
       "30667                   Uddta Punjab          navkamboj                31048  \n",
       "34533  GURRJANT SINGH MANUKA (ARJAN)       BittuGurjant                 1489  \n",
       "1063                Atul Kumar Gupta       kumaratul500                  320  \n",
       "36368                Gajendra Vikram          gn_vikram                  940  "
      ]
     },
     "execution_count": 182,
     "metadata": {},
     "output_type": "execute_result"
    }
   ],
   "source": [
    "# sample data\n",
    "data.sample(10)"
   ]
  },
  {
   "cell_type": "markdown",
   "id": "liberal-demographic",
   "metadata": {
    "ExecuteTime": {
     "end_time": "2021-02-25T14:42:30.526174Z",
     "start_time": "2021-02-25T14:42:30.502873Z"
    }
   },
   "source": [
    "### *Remvoing columns we don't need*\n",
    "\n",
    "- **tweet_url** : We will get nothing from it\n",
    "- **user_description, user_name, user_screen_name1** : Personal Information\n",
    "- **user_location** : entered by user, might be invalid and also personal and redundant."
   ]
  },
  {
   "cell_type": "code",
   "execution_count": 183,
   "id": "superior-contact",
   "metadata": {
    "ExecuteTime": {
     "end_time": "2021-02-26T09:39:37.061242Z",
     "start_time": "2021-02-26T09:39:37.035302Z"
    }
   },
   "outputs": [],
   "source": [
    "data.drop(['tweet_url', 'user_description', 'user_location', 'user_name', 'user_screen_name.1'], axis = 1, inplace = True)"
   ]
  },
  {
   "cell_type": "code",
   "execution_count": 184,
   "id": "maritime-burns",
   "metadata": {
    "ExecuteTime": {
     "end_time": "2021-02-26T09:39:37.098767Z",
     "start_time": "2021-02-26T09:39:37.062275Z"
    }
   },
   "outputs": [
    {
     "name": "stdout",
     "output_type": "stream",
     "text": [
      "<class 'pandas.core.frame.DataFrame'>\n",
      "Int64Index: 33991 entries, 0 to 44178\n",
      "Data columns (total 11 columns):\n",
      " #   Column                 Non-Null Count  Dtype         \n",
      "---  ------                 --------------  -----         \n",
      " 0   created_at             33991 non-null  datetime64[ns]\n",
      " 1   favorite_count         33991 non-null  int64         \n",
      " 2   lang                   33991 non-null  object        \n",
      " 3   place                  33991 non-null  object        \n",
      " 4   retweet_count          33991 non-null  int64         \n",
      " 5   user_screen_name       33991 non-null  object        \n",
      " 6   user_favourites_count  33991 non-null  int64         \n",
      " 7   user_followers_count   33991 non-null  int64         \n",
      " 8   user_friends_count     33991 non-null  int64         \n",
      " 9   user_listed_count      33991 non-null  int64         \n",
      " 10  user_statuses_count    33991 non-null  int64         \n",
      "dtypes: datetime64[ns](1), int64(7), object(3)\n",
      "memory usage: 3.1+ MB\n"
     ]
    }
   ],
   "source": [
    "# Info on data\n",
    "data.info()"
   ]
  },
  {
   "cell_type": "code",
   "execution_count": 185,
   "id": "consolidated-parish",
   "metadata": {
    "ExecuteTime": {
     "end_time": "2021-02-26T09:39:37.168924Z",
     "start_time": "2021-02-26T09:39:37.099800Z"
    }
   },
   "outputs": [
    {
     "data": {
      "text/html": [
       "<div>\n",
       "<style scoped>\n",
       "    .dataframe tbody tr th:only-of-type {\n",
       "        vertical-align: middle;\n",
       "    }\n",
       "\n",
       "    .dataframe tbody tr th {\n",
       "        vertical-align: top;\n",
       "    }\n",
       "\n",
       "    .dataframe thead th {\n",
       "        text-align: right;\n",
       "    }\n",
       "</style>\n",
       "<table border=\"1\" class=\"dataframe\">\n",
       "  <thead>\n",
       "    <tr style=\"text-align: right;\">\n",
       "      <th></th>\n",
       "      <th>favorite_count</th>\n",
       "      <th>retweet_count</th>\n",
       "      <th>user_favourites_count</th>\n",
       "      <th>user_followers_count</th>\n",
       "      <th>user_friends_count</th>\n",
       "      <th>user_listed_count</th>\n",
       "      <th>user_statuses_count</th>\n",
       "    </tr>\n",
       "  </thead>\n",
       "  <tbody>\n",
       "    <tr>\n",
       "      <th>count</th>\n",
       "      <td>33991.000000</td>\n",
       "      <td>33991.000000</td>\n",
       "      <td>33991.000000</td>\n",
       "      <td>3.399100e+04</td>\n",
       "      <td>33991.000000</td>\n",
       "      <td>33991.000000</td>\n",
       "      <td>3.399100e+04</td>\n",
       "    </tr>\n",
       "    <tr>\n",
       "      <th>mean</th>\n",
       "      <td>10.761054</td>\n",
       "      <td>2.446353</td>\n",
       "      <td>16972.715042</td>\n",
       "      <td>7.681606e+03</td>\n",
       "      <td>1028.718484</td>\n",
       "      <td>19.281163</td>\n",
       "      <td>1.953947e+04</td>\n",
       "    </tr>\n",
       "    <tr>\n",
       "      <th>std</th>\n",
       "      <td>786.783982</td>\n",
       "      <td>125.708909</td>\n",
       "      <td>45015.723386</td>\n",
       "      <td>1.703520e+05</td>\n",
       "      <td>6375.088496</td>\n",
       "      <td>96.536292</td>\n",
       "      <td>5.823652e+04</td>\n",
       "    </tr>\n",
       "    <tr>\n",
       "      <th>min</th>\n",
       "      <td>0.000000</td>\n",
       "      <td>0.000000</td>\n",
       "      <td>0.000000</td>\n",
       "      <td>0.000000e+00</td>\n",
       "      <td>0.000000</td>\n",
       "      <td>0.000000</td>\n",
       "      <td>1.000000e+00</td>\n",
       "    </tr>\n",
       "    <tr>\n",
       "      <th>25%</th>\n",
       "      <td>0.000000</td>\n",
       "      <td>0.000000</td>\n",
       "      <td>444.000000</td>\n",
       "      <td>5.900000e+01</td>\n",
       "      <td>130.000000</td>\n",
       "      <td>0.000000</td>\n",
       "      <td>6.310000e+02</td>\n",
       "    </tr>\n",
       "    <tr>\n",
       "      <th>50%</th>\n",
       "      <td>0.000000</td>\n",
       "      <td>0.000000</td>\n",
       "      <td>3204.000000</td>\n",
       "      <td>2.710000e+02</td>\n",
       "      <td>359.000000</td>\n",
       "      <td>1.000000</td>\n",
       "      <td>3.459000e+03</td>\n",
       "    </tr>\n",
       "    <tr>\n",
       "      <th>75%</th>\n",
       "      <td>2.000000</td>\n",
       "      <td>0.000000</td>\n",
       "      <td>13675.500000</td>\n",
       "      <td>1.217000e+03</td>\n",
       "      <td>989.000000</td>\n",
       "      <td>7.000000</td>\n",
       "      <td>1.575100e+04</td>\n",
       "    </tr>\n",
       "    <tr>\n",
       "      <th>max</th>\n",
       "      <td>144012.000000</td>\n",
       "      <td>22549.000000</td>\n",
       "      <td>638151.000000</td>\n",
       "      <td>1.827721e+07</td>\n",
       "      <td>316697.000000</td>\n",
       "      <td>5775.000000</td>\n",
       "      <td>2.117851e+06</td>\n",
       "    </tr>\n",
       "  </tbody>\n",
       "</table>\n",
       "</div>"
      ],
      "text/plain": [
       "       favorite_count  retweet_count  user_favourites_count  \\\n",
       "count    33991.000000   33991.000000           33991.000000   \n",
       "mean        10.761054       2.446353           16972.715042   \n",
       "std        786.783982     125.708909           45015.723386   \n",
       "min          0.000000       0.000000               0.000000   \n",
       "25%          0.000000       0.000000             444.000000   \n",
       "50%          0.000000       0.000000            3204.000000   \n",
       "75%          2.000000       0.000000           13675.500000   \n",
       "max     144012.000000   22549.000000          638151.000000   \n",
       "\n",
       "       user_followers_count  user_friends_count  user_listed_count  \\\n",
       "count          3.399100e+04        33991.000000       33991.000000   \n",
       "mean           7.681606e+03         1028.718484          19.281163   \n",
       "std            1.703520e+05         6375.088496          96.536292   \n",
       "min            0.000000e+00            0.000000           0.000000   \n",
       "25%            5.900000e+01          130.000000           0.000000   \n",
       "50%            2.710000e+02          359.000000           1.000000   \n",
       "75%            1.217000e+03          989.000000           7.000000   \n",
       "max            1.827721e+07       316697.000000        5775.000000   \n",
       "\n",
       "       user_statuses_count  \n",
       "count         3.399100e+04  \n",
       "mean          1.953947e+04  \n",
       "std           5.823652e+04  \n",
       "min           1.000000e+00  \n",
       "25%           6.310000e+02  \n",
       "50%           3.459000e+03  \n",
       "75%           1.575100e+04  \n",
       "max           2.117851e+06  "
      ]
     },
     "execution_count": 185,
     "metadata": {},
     "output_type": "execute_result"
    }
   ],
   "source": [
    "data.describe()"
   ]
  },
  {
   "cell_type": "code",
   "execution_count": 186,
   "id": "covered-opera",
   "metadata": {
    "ExecuteTime": {
     "end_time": "2021-02-26T09:39:37.210281Z",
     "start_time": "2021-02-26T09:39:37.172191Z"
    }
   },
   "outputs": [
    {
     "data": {
      "text/html": [
       "<div>\n",
       "<style scoped>\n",
       "    .dataframe tbody tr th:only-of-type {\n",
       "        vertical-align: middle;\n",
       "    }\n",
       "\n",
       "    .dataframe tbody tr th {\n",
       "        vertical-align: top;\n",
       "    }\n",
       "\n",
       "    .dataframe thead th {\n",
       "        text-align: right;\n",
       "    }\n",
       "</style>\n",
       "<table border=\"1\" class=\"dataframe\">\n",
       "  <thead>\n",
       "    <tr style=\"text-align: right;\">\n",
       "      <th></th>\n",
       "      <th>created_at</th>\n",
       "      <th>favorite_count</th>\n",
       "      <th>lang</th>\n",
       "      <th>place</th>\n",
       "      <th>retweet_count</th>\n",
       "      <th>user_screen_name</th>\n",
       "      <th>user_favourites_count</th>\n",
       "      <th>user_followers_count</th>\n",
       "      <th>user_friends_count</th>\n",
       "      <th>user_listed_count</th>\n",
       "      <th>user_statuses_count</th>\n",
       "    </tr>\n",
       "  </thead>\n",
       "  <tbody>\n",
       "    <tr>\n",
       "      <th>10073</th>\n",
       "      <td>2020-03-28 17:35:04</td>\n",
       "      <td>0</td>\n",
       "      <td>en</td>\n",
       "      <td>Basti, India</td>\n",
       "      <td>0</td>\n",
       "      <td>amitaimk</td>\n",
       "      <td>4913</td>\n",
       "      <td>631</td>\n",
       "      <td>1562</td>\n",
       "      <td>86</td>\n",
       "      <td>13055</td>\n",
       "    </tr>\n",
       "    <tr>\n",
       "      <th>23811</th>\n",
       "      <td>2020-04-16 18:36:44</td>\n",
       "      <td>0</td>\n",
       "      <td>en</td>\n",
       "      <td>New Delhi, India</td>\n",
       "      <td>0</td>\n",
       "      <td>MohdIrshad_</td>\n",
       "      <td>7830</td>\n",
       "      <td>187</td>\n",
       "      <td>989</td>\n",
       "      <td>0</td>\n",
       "      <td>1853</td>\n",
       "    </tr>\n",
       "    <tr>\n",
       "      <th>4019</th>\n",
       "      <td>2020-03-26 14:51:33</td>\n",
       "      <td>0</td>\n",
       "      <td>en</td>\n",
       "      <td>Rajendra Nagar, India</td>\n",
       "      <td>0</td>\n",
       "      <td>JithenderkBjym</td>\n",
       "      <td>12008</td>\n",
       "      <td>103</td>\n",
       "      <td>571</td>\n",
       "      <td>0</td>\n",
       "      <td>2909</td>\n",
       "    </tr>\n",
       "    <tr>\n",
       "      <th>19962</th>\n",
       "      <td>2020-04-14 10:01:10</td>\n",
       "      <td>4</td>\n",
       "      <td>en</td>\n",
       "      <td>Maharashtra, India</td>\n",
       "      <td>1</td>\n",
       "      <td>FranchiseeMart</td>\n",
       "      <td>827</td>\n",
       "      <td>918</td>\n",
       "      <td>105</td>\n",
       "      <td>146</td>\n",
       "      <td>1751</td>\n",
       "    </tr>\n",
       "    <tr>\n",
       "      <th>34951</th>\n",
       "      <td>2020-02-05 13:39:22</td>\n",
       "      <td>11</td>\n",
       "      <td>en</td>\n",
       "      <td>Egmore Nungambakkam, India</td>\n",
       "      <td>3</td>\n",
       "      <td>ranjith_tnpyc</td>\n",
       "      <td>2112</td>\n",
       "      <td>1033</td>\n",
       "      <td>1500</td>\n",
       "      <td>2</td>\n",
       "      <td>574</td>\n",
       "    </tr>\n",
       "    <tr>\n",
       "      <th>23039</th>\n",
       "      <td>2020-04-16 10:44:40</td>\n",
       "      <td>1</td>\n",
       "      <td>en</td>\n",
       "      <td>Bihar, India</td>\n",
       "      <td>0</td>\n",
       "      <td>aamritanshuaman</td>\n",
       "      <td>90528</td>\n",
       "      <td>134</td>\n",
       "      <td>136</td>\n",
       "      <td>0</td>\n",
       "      <td>960</td>\n",
       "    </tr>\n",
       "    <tr>\n",
       "      <th>23736</th>\n",
       "      <td>2020-04-16 17:37:35</td>\n",
       "      <td>0</td>\n",
       "      <td>en</td>\n",
       "      <td>Mhow, India</td>\n",
       "      <td>0</td>\n",
       "      <td>RsRmsc</td>\n",
       "      <td>2094</td>\n",
       "      <td>36</td>\n",
       "      <td>103</td>\n",
       "      <td>0</td>\n",
       "      <td>3883</td>\n",
       "    </tr>\n",
       "    <tr>\n",
       "      <th>31068</th>\n",
       "      <td>2020-04-20 15:32:10</td>\n",
       "      <td>0</td>\n",
       "      <td>en</td>\n",
       "      <td>Ghaziabad, India</td>\n",
       "      <td>0</td>\n",
       "      <td>bhattachadilip</td>\n",
       "      <td>2290</td>\n",
       "      <td>488</td>\n",
       "      <td>1078</td>\n",
       "      <td>2</td>\n",
       "      <td>2383</td>\n",
       "    </tr>\n",
       "    <tr>\n",
       "      <th>15037</th>\n",
       "      <td>2020-03-31 12:38:58</td>\n",
       "      <td>3</td>\n",
       "      <td>en</td>\n",
       "      <td>Jaipur, India</td>\n",
       "      <td>0</td>\n",
       "      <td>jameelwecan</td>\n",
       "      <td>8352</td>\n",
       "      <td>273</td>\n",
       "      <td>210</td>\n",
       "      <td>2</td>\n",
       "      <td>744</td>\n",
       "    </tr>\n",
       "    <tr>\n",
       "      <th>32663</th>\n",
       "      <td>2020-01-05 11:25:27</td>\n",
       "      <td>2</td>\n",
       "      <td>en</td>\n",
       "      <td>Chengalpattu, India</td>\n",
       "      <td>0</td>\n",
       "      <td>maselvamani</td>\n",
       "      <td>61</td>\n",
       "      <td>66</td>\n",
       "      <td>332</td>\n",
       "      <td>0</td>\n",
       "      <td>212</td>\n",
       "    </tr>\n",
       "  </tbody>\n",
       "</table>\n",
       "</div>"
      ],
      "text/plain": [
       "               created_at  favorite_count lang                       place  \\\n",
       "10073 2020-03-28 17:35:04               0   en                Basti, India   \n",
       "23811 2020-04-16 18:36:44               0   en            New Delhi, India   \n",
       "4019  2020-03-26 14:51:33               0   en       Rajendra Nagar, India   \n",
       "19962 2020-04-14 10:01:10               4   en          Maharashtra, India   \n",
       "34951 2020-02-05 13:39:22              11   en  Egmore Nungambakkam, India   \n",
       "23039 2020-04-16 10:44:40               1   en                Bihar, India   \n",
       "23736 2020-04-16 17:37:35               0   en                 Mhow, India   \n",
       "31068 2020-04-20 15:32:10               0   en            Ghaziabad, India   \n",
       "15037 2020-03-31 12:38:58               3   en               Jaipur, India   \n",
       "32663 2020-01-05 11:25:27               2   en         Chengalpattu, India   \n",
       "\n",
       "       retweet_count user_screen_name  user_favourites_count  \\\n",
       "10073              0         amitaimk                   4913   \n",
       "23811              0      MohdIrshad_                   7830   \n",
       "4019               0   JithenderkBjym                  12008   \n",
       "19962              1   FranchiseeMart                    827   \n",
       "34951              3    ranjith_tnpyc                   2112   \n",
       "23039              0  aamritanshuaman                  90528   \n",
       "23736              0           RsRmsc                   2094   \n",
       "31068              0   bhattachadilip                   2290   \n",
       "15037              0      jameelwecan                   8352   \n",
       "32663              0      maselvamani                     61   \n",
       "\n",
       "       user_followers_count  user_friends_count  user_listed_count  \\\n",
       "10073                   631                1562                 86   \n",
       "23811                   187                 989                  0   \n",
       "4019                    103                 571                  0   \n",
       "19962                   918                 105                146   \n",
       "34951                  1033                1500                  2   \n",
       "23039                   134                 136                  0   \n",
       "23736                    36                 103                  0   \n",
       "31068                   488                1078                  2   \n",
       "15037                   273                 210                  2   \n",
       "32663                    66                 332                  0   \n",
       "\n",
       "       user_statuses_count  \n",
       "10073                13055  \n",
       "23811                 1853  \n",
       "4019                  2909  \n",
       "19962                 1751  \n",
       "34951                  574  \n",
       "23039                  960  \n",
       "23736                 3883  \n",
       "31068                 2383  \n",
       "15037                  744  \n",
       "32663                  212  "
      ]
     },
     "execution_count": 186,
     "metadata": {},
     "output_type": "execute_result"
    }
   ],
   "source": [
    "# Cleaned data\n",
    "data.sample(10)"
   ]
  },
  {
   "cell_type": "code",
   "execution_count": 187,
   "id": "educational-evaluation",
   "metadata": {
    "ExecuteTime": {
     "end_time": "2021-02-26T09:39:37.256032Z",
     "start_time": "2021-02-26T09:39:37.214307Z"
    }
   },
   "outputs": [
    {
     "name": "stdout",
     "output_type": "stream",
     "text": [
      "33025\n"
     ]
    }
   ],
   "source": [
    "# Checking if all data is from india or not as place only contains city or country or both\n",
    "i = 0\n",
    "for line in list(data.place):\n",
    "    line = line.lower()\n",
    "    if 'india' in line:\n",
    "        i += 1\n",
    "        \n",
    "print(i) # Places with india in it"
   ]
  },
  {
   "cell_type": "markdown",
   "id": "serious-digit",
   "metadata": {},
   "source": [
    "#### ***Since, all data is from India removing the term India from places.***"
   ]
  },
  {
   "cell_type": "code",
   "execution_count": 188,
   "id": "applicable-destination",
   "metadata": {
    "ExecuteTime": {
     "end_time": "2021-02-26T09:40:25.073886Z",
     "start_time": "2021-02-26T09:39:37.260900Z"
    }
   },
   "outputs": [],
   "source": [
    "# Cleaning place names\n",
    "data.place = data.place.apply(clean_line)\n",
    "\n",
    "# Removing country name, india if city present in the name\n",
    "def remove_country(place):\n",
    "    places = place.split()\n",
    "    if len(places) > 1:\n",
    "        if 'india' in places:\n",
    "            places.remove('india')\n",
    "    return \" \".join(places)\n",
    "\n",
    "data.place = data.place.apply(remove_country)"
   ]
  },
  {
   "cell_type": "markdown",
   "id": "brazilian-symphony",
   "metadata": {},
   "source": [
    "## Final Data"
   ]
  },
  {
   "cell_type": "code",
   "execution_count": 189,
   "id": "familiar-worth",
   "metadata": {
    "ExecuteTime": {
     "end_time": "2021-02-26T09:40:25.102228Z",
     "start_time": "2021-02-26T09:40:25.077878Z"
    }
   },
   "outputs": [
    {
     "data": {
      "text/html": [
       "<div>\n",
       "<style scoped>\n",
       "    .dataframe tbody tr th:only-of-type {\n",
       "        vertical-align: middle;\n",
       "    }\n",
       "\n",
       "    .dataframe tbody tr th {\n",
       "        vertical-align: top;\n",
       "    }\n",
       "\n",
       "    .dataframe thead th {\n",
       "        text-align: right;\n",
       "    }\n",
       "</style>\n",
       "<table border=\"1\" class=\"dataframe\">\n",
       "  <thead>\n",
       "    <tr style=\"text-align: right;\">\n",
       "      <th></th>\n",
       "      <th>created_at</th>\n",
       "      <th>favorite_count</th>\n",
       "      <th>lang</th>\n",
       "      <th>place</th>\n",
       "      <th>retweet_count</th>\n",
       "      <th>user_screen_name</th>\n",
       "      <th>user_favourites_count</th>\n",
       "      <th>user_followers_count</th>\n",
       "      <th>user_friends_count</th>\n",
       "      <th>user_listed_count</th>\n",
       "      <th>user_statuses_count</th>\n",
       "    </tr>\n",
       "  </thead>\n",
       "  <tbody>\n",
       "    <tr>\n",
       "      <th>33217</th>\n",
       "      <td>2020-01-05 18:11:58</td>\n",
       "      <td>0</td>\n",
       "      <td>en</td>\n",
       "      <td>trivandrum</td>\n",
       "      <td>0</td>\n",
       "      <td>Nmenon777</td>\n",
       "      <td>211327</td>\n",
       "      <td>3243</td>\n",
       "      <td>3724</td>\n",
       "      <td>6</td>\n",
       "      <td>101153</td>\n",
       "    </tr>\n",
       "    <tr>\n",
       "      <th>32297</th>\n",
       "      <td>2020-01-05 08:34:54</td>\n",
       "      <td>0</td>\n",
       "      <td>en</td>\n",
       "      <td>allahabad</td>\n",
       "      <td>0</td>\n",
       "      <td>Dr_Saurabh2803</td>\n",
       "      <td>4906</td>\n",
       "      <td>55</td>\n",
       "      <td>236</td>\n",
       "      <td>0</td>\n",
       "      <td>5711</td>\n",
       "    </tr>\n",
       "    <tr>\n",
       "      <th>17585</th>\n",
       "      <td>2020-01-04 12:46:05</td>\n",
       "      <td>1</td>\n",
       "      <td>en</td>\n",
       "      <td>andhra pradesh</td>\n",
       "      <td>0</td>\n",
       "      <td>NameisVarshi</td>\n",
       "      <td>3144</td>\n",
       "      <td>527</td>\n",
       "      <td>1558</td>\n",
       "      <td>0</td>\n",
       "      <td>5134</td>\n",
       "    </tr>\n",
       "    <tr>\n",
       "      <th>15843</th>\n",
       "      <td>2020-03-31 18:06:49</td>\n",
       "      <td>3</td>\n",
       "      <td>en</td>\n",
       "      <td>uttar pradesh</td>\n",
       "      <td>0</td>\n",
       "      <td>themohit_thakur</td>\n",
       "      <td>6864</td>\n",
       "      <td>719</td>\n",
       "      <td>203</td>\n",
       "      <td>1</td>\n",
       "      <td>1617</td>\n",
       "    </tr>\n",
       "    <tr>\n",
       "      <th>29359</th>\n",
       "      <td>2020-04-19 17:05:00</td>\n",
       "      <td>1</td>\n",
       "      <td>en</td>\n",
       "      <td>porbandar</td>\n",
       "      <td>0</td>\n",
       "      <td>thanki_harsh100</td>\n",
       "      <td>29922</td>\n",
       "      <td>644</td>\n",
       "      <td>803</td>\n",
       "      <td>0</td>\n",
       "      <td>7039</td>\n",
       "    </tr>\n",
       "    <tr>\n",
       "      <th>31038</th>\n",
       "      <td>2020-04-20 15:04:46</td>\n",
       "      <td>0</td>\n",
       "      <td>en</td>\n",
       "      <td>fort tondiarpet</td>\n",
       "      <td>0</td>\n",
       "      <td>perarivalan333</td>\n",
       "      <td>144777</td>\n",
       "      <td>1806</td>\n",
       "      <td>4942</td>\n",
       "      <td>0</td>\n",
       "      <td>139683</td>\n",
       "    </tr>\n",
       "    <tr>\n",
       "      <th>26062</th>\n",
       "      <td>2020-04-18 08:11:21</td>\n",
       "      <td>2</td>\n",
       "      <td>en</td>\n",
       "      <td>chhattisgarh</td>\n",
       "      <td>0</td>\n",
       "      <td>RamSajilaIYC</td>\n",
       "      <td>17547</td>\n",
       "      <td>1796</td>\n",
       "      <td>1975</td>\n",
       "      <td>1</td>\n",
       "      <td>28050</td>\n",
       "    </tr>\n",
       "    <tr>\n",
       "      <th>35724</th>\n",
       "      <td>2020-03-05 02:19:17</td>\n",
       "      <td>1</td>\n",
       "      <td>en</td>\n",
       "      <td>chandigarh</td>\n",
       "      <td>0</td>\n",
       "      <td>SrowSameer</td>\n",
       "      <td>1497</td>\n",
       "      <td>94</td>\n",
       "      <td>113</td>\n",
       "      <td>0</td>\n",
       "      <td>939</td>\n",
       "    </tr>\n",
       "    <tr>\n",
       "      <th>11184</th>\n",
       "      <td>2020-03-29 06:16:30</td>\n",
       "      <td>4</td>\n",
       "      <td>en</td>\n",
       "      <td>raichur</td>\n",
       "      <td>2</td>\n",
       "      <td>svmurthy</td>\n",
       "      <td>2154</td>\n",
       "      <td>1359</td>\n",
       "      <td>1196</td>\n",
       "      <td>138</td>\n",
       "      <td>70950</td>\n",
       "    </tr>\n",
       "    <tr>\n",
       "      <th>39838</th>\n",
       "      <td>2020-04-05 13:06:55</td>\n",
       "      <td>1</td>\n",
       "      <td>en</td>\n",
       "      <td>mumbai</td>\n",
       "      <td>1</td>\n",
       "      <td>pnandola</td>\n",
       "      <td>4958</td>\n",
       "      <td>733</td>\n",
       "      <td>1446</td>\n",
       "      <td>13</td>\n",
       "      <td>5931</td>\n",
       "    </tr>\n",
       "  </tbody>\n",
       "</table>\n",
       "</div>"
      ],
      "text/plain": [
       "               created_at  favorite_count lang            place  \\\n",
       "33217 2020-01-05 18:11:58               0   en       trivandrum   \n",
       "32297 2020-01-05 08:34:54               0   en        allahabad   \n",
       "17585 2020-01-04 12:46:05               1   en   andhra pradesh   \n",
       "15843 2020-03-31 18:06:49               3   en    uttar pradesh   \n",
       "29359 2020-04-19 17:05:00               1   en        porbandar   \n",
       "31038 2020-04-20 15:04:46               0   en  fort tondiarpet   \n",
       "26062 2020-04-18 08:11:21               2   en     chhattisgarh   \n",
       "35724 2020-03-05 02:19:17               1   en       chandigarh   \n",
       "11184 2020-03-29 06:16:30               4   en          raichur   \n",
       "39838 2020-04-05 13:06:55               1   en           mumbai   \n",
       "\n",
       "       retweet_count user_screen_name  user_favourites_count  \\\n",
       "33217              0        Nmenon777                 211327   \n",
       "32297              0   Dr_Saurabh2803                   4906   \n",
       "17585              0     NameisVarshi                   3144   \n",
       "15843              0  themohit_thakur                   6864   \n",
       "29359              0  thanki_harsh100                  29922   \n",
       "31038              0   perarivalan333                 144777   \n",
       "26062              0     RamSajilaIYC                  17547   \n",
       "35724              0       SrowSameer                   1497   \n",
       "11184              2         svmurthy                   2154   \n",
       "39838              1         pnandola                   4958   \n",
       "\n",
       "       user_followers_count  user_friends_count  user_listed_count  \\\n",
       "33217                  3243                3724                  6   \n",
       "32297                    55                 236                  0   \n",
       "17585                   527                1558                  0   \n",
       "15843                   719                 203                  1   \n",
       "29359                   644                 803                  0   \n",
       "31038                  1806                4942                  0   \n",
       "26062                  1796                1975                  1   \n",
       "35724                    94                 113                  0   \n",
       "11184                  1359                1196                138   \n",
       "39838                   733                1446                 13   \n",
       "\n",
       "       user_statuses_count  \n",
       "33217               101153  \n",
       "32297                 5711  \n",
       "17585                 5134  \n",
       "15843                 1617  \n",
       "29359                 7039  \n",
       "31038               139683  \n",
       "26062                28050  \n",
       "35724                  939  \n",
       "11184                70950  \n",
       "39838                 5931  "
      ]
     },
     "execution_count": 189,
     "metadata": {},
     "output_type": "execute_result"
    }
   ],
   "source": [
    "# Sample data\n",
    "data.sample(10)"
   ]
  },
  {
   "cell_type": "code",
   "execution_count": 190,
   "id": "smoking-arthritis",
   "metadata": {
    "ExecuteTime": {
     "end_time": "2021-02-26T09:40:25.128251Z",
     "start_time": "2021-02-26T09:40:25.106239Z"
    }
   },
   "outputs": [
    {
     "data": {
      "text/plain": [
       "['meditation mindfulness tip cop corona virus pandemicas people become anxious selfquarantine homeexperts recommend mindfulness meditation practice prove',\n",
       " 'contribute india fight corona gandhinagar gujarat',\n",
       " '@delhipolice sir please send team immediately sanitize build',\n",
       " 'sscufmmatkarona corona slow poison ufm instant killer thousands genuine aspirants @pmoindia',\n",
       " 'mata di doston ise corona ke tarah faila bhai please like share comment subscribe channel youtube pritamkumarmurari support voice',\n",
       " '@chintskap mum phd corona virus whatsapp university',\n",
       " '@funnyhammy dumbo amount count today emergency period countries announce billions dollars corona combat feku fool people like',\n",
       " 'first allow corona possessions stop kirana shop clearly nany bhakts listen modi anymore certainly yogi',\n",
       " '@tvmarathi kindly help us break chain corona',\n",
       " 'safe home corona busy infect people spread like wild fire home assure familyfriends amp everyone feel important safe amp sound remember corona bahar bulati hai magar jaaneka nahidayslockdown']"
      ]
     },
     "execution_count": 190,
     "metadata": {},
     "output_type": "execute_result"
    }
   ],
   "source": [
    "# Tweets\n",
    "tweets[:10]"
   ]
  },
  {
   "cell_type": "code",
   "execution_count": 192,
   "id": "technical-liberia",
   "metadata": {
    "ExecuteTime": {
     "end_time": "2021-02-26T09:40:45.263455Z",
     "start_time": "2021-02-26T09:40:45.249364Z"
    }
   },
   "outputs": [
    {
     "data": {
      "text/plain": [
       "[('#ssc_ufm_mat_karona', 2),\n",
       " ('#corona', 8665),\n",
       " ('#ufm', 2),\n",
       " ('#pritamkumarmurari', 2),\n",
       " ('#voice', 4)]"
      ]
     },
     "execution_count": 192,
     "metadata": {},
     "output_type": "execute_result"
    }
   ],
   "source": [
    "# Hashtags\n",
    "\n",
    "list(hashtags.items())[:5]"
   ]
  },
  {
   "cell_type": "markdown",
   "id": "appropriate-front",
   "metadata": {},
   "source": [
    "### Saving data to machine"
   ]
  },
  {
   "cell_type": "code",
   "execution_count": 203,
   "id": "sound-lodge",
   "metadata": {
    "ExecuteTime": {
     "end_time": "2021-02-26T09:48:50.267535Z",
     "start_time": "2021-02-26T09:48:49.737740Z"
    }
   },
   "outputs": [],
   "source": [
    "# Storing Data \n",
    "data.to_csv('cleaned_data.csv', index = False)\n",
    "\n",
    "# Storing Tweets\n",
    "with open('cleaned_tweets.txt', 'w', encoding = 'utf8') as filehandle:\n",
    "    filehandle.writelines(\"%s\\n\" % place for place in tweets)\n",
    "\n",
    "# Storing hashtags\n",
    "with open('hashtags.csv', 'w', encoding = 'utf8') as filehandle:\n",
    "    writer = csv.writer(filehandle)\n",
    "    for key, value in hashtags.items():\n",
    "        #key = str.encode(key).decode('utf-8')\n",
    "        #value = str.encode(value).decode('utf-8')\n",
    "        writer.writerow([key, value])"
   ]
  }
 ],
 "metadata": {
  "kernelspec": {
   "display_name": "Python 3",
   "language": "python",
   "name": "python3"
  },
  "language_info": {
   "codemirror_mode": {
    "name": "ipython",
    "version": 3
   },
   "file_extension": ".py",
   "mimetype": "text/x-python",
   "name": "python",
   "nbconvert_exporter": "python",
   "pygments_lexer": "ipython3",
   "version": "3.7.10"
  }
 },
 "nbformat": 4,
 "nbformat_minor": 5
}
