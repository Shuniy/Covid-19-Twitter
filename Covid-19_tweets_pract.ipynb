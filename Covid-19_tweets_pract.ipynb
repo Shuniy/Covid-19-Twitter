{
 "cells": [
  {
   "cell_type": "markdown",
   "id": "pursuant-effects",
   "metadata": {},
   "source": [
    "# *Covid - 19 Tweets Analysis*"
   ]
  },
  {
   "cell_type": "markdown",
   "id": "decent-martial",
   "metadata": {},
   "source": [
    "## Importing Libraries and Data"
   ]
  },
  {
   "cell_type": "code",
   "execution_count": 34,
   "id": "coated-locking",
   "metadata": {
    "ExecuteTime": {
     "end_time": "2021-02-10T06:25:26.691564Z",
     "start_time": "2021-02-10T06:25:26.687558Z"
    }
   },
   "outputs": [],
   "source": [
    "# Importing libraries\n",
    "import pandas as pd \n",
    "import numpy as np\n",
    "import seaborn as sb\n",
    "import matplotlib.pyplot as plt\n",
    "\n",
    "%matplotlib inline\n"
   ]
  },
  {
   "cell_type": "code",
   "execution_count": 35,
   "id": "norwegian-designer",
   "metadata": {
    "ExecuteTime": {
     "end_time": "2021-02-10T06:25:27.271270Z",
     "start_time": "2021-02-10T06:25:27.122343Z"
    }
   },
   "outputs": [],
   "source": [
    "# Importing data\n",
    "data_with_id = pd.read_csv('cleaned_data_with_id.csv', header = None, names = ['username', 'tweet'])\n",
    "tweets = []\n",
    "hashtags = []\n",
    "\n",
    "with open('cleaned_data_with_no_id.TXT', 'r') as text_file:\n",
    "    reader = text_file.readlines()\n",
    "    for line in reader:\n",
    "        tweets.append(line)\n",
    "        \n",
    "# Hashtags\n",
    "hashtags = pd.read_csv('hashtags.csv', header = None, names = ['hashtag', 'count'])"
   ]
  },
  {
   "cell_type": "code",
   "execution_count": 36,
   "id": "atlantic-worship",
   "metadata": {
    "ExecuteTime": {
     "end_time": "2021-02-10T06:25:28.245785Z",
     "start_time": "2021-02-10T06:25:28.234273Z"
    }
   },
   "outputs": [
    {
     "data": {
      "text/html": [
       "<div>\n",
       "<style scoped>\n",
       "    .dataframe tbody tr th:only-of-type {\n",
       "        vertical-align: middle;\n",
       "    }\n",
       "\n",
       "    .dataframe tbody tr th {\n",
       "        vertical-align: top;\n",
       "    }\n",
       "\n",
       "    .dataframe thead th {\n",
       "        text-align: right;\n",
       "    }\n",
       "</style>\n",
       "<table border=\"1\" class=\"dataframe\">\n",
       "  <thead>\n",
       "    <tr style=\"text-align: right;\">\n",
       "      <th></th>\n",
       "      <th>username</th>\n",
       "      <th>tweet</th>\n",
       "    </tr>\n",
       "  </thead>\n",
       "  <tbody>\n",
       "    <tr>\n",
       "      <th>1873</th>\n",
       "      <td>@dazzlerow</td>\n",
       "      <td>would get corona cash</td>\n",
       "    </tr>\n",
       "    <tr>\n",
       "      <th>376</th>\n",
       "      <td>@bombsboxing</td>\n",
       "      <td>really mate amir khan fight khan quite bite ko</td>\n",
       "    </tr>\n",
       "    <tr>\n",
       "      <th>3000</th>\n",
       "      <td>@ollahjohnson</td>\n",
       "      <td>hahaha jaah nee especially fact corona since e...</td>\n",
       "    </tr>\n",
       "    <tr>\n",
       "      <th>498</th>\n",
       "      <td>@montaga</td>\n",
       "      <td>dont care answer corona along wont use bc hate</td>\n",
       "    </tr>\n",
       "    <tr>\n",
       "      <th>1941</th>\n",
       "      <td>@cknw</td>\n",
       "      <td>case deaths sickness test pic corona virus cov...</td>\n",
       "    </tr>\n",
       "  </tbody>\n",
       "</table>\n",
       "</div>"
      ],
      "text/plain": [
       "           username                                              tweet\n",
       "1873     @dazzlerow                              would get corona cash\n",
       "376    @bombsboxing     really mate amir khan fight khan quite bite ko\n",
       "3000  @ollahjohnson  hahaha jaah nee especially fact corona since e...\n",
       "498        @montaga     dont care answer corona along wont use bc hate\n",
       "1941          @cknw  case deaths sickness test pic corona virus cov..."
      ]
     },
     "execution_count": 36,
     "metadata": {},
     "output_type": "execute_result"
    }
   ],
   "source": [
    "# glimpse at data\n",
    "data_with_id.sample(5)"
   ]
  },
  {
   "cell_type": "code",
   "execution_count": 37,
   "id": "entitled-stand",
   "metadata": {
    "ExecuteTime": {
     "end_time": "2021-02-10T06:25:32.020277Z",
     "start_time": "2021-02-10T06:25:32.015016Z"
    }
   },
   "outputs": [
    {
     "data": {
      "text/plain": [
       "['scottish folk trio yorkstonthornkhan unite robert burn poem westlin wind one purbi dialect old hindi poet hazrat amir khusrau familiar hindi art philosophy stumble upon one like\\n',\n",
       " 'picture level year old amir khan\\n',\n",
       " 'remember joke amir khan mins ago\\n',\n",
       " 'thank amir khan afridi\\n',\n",
       " 'gonda\\n']"
      ]
     },
     "execution_count": 37,
     "metadata": {},
     "output_type": "execute_result"
    }
   ],
   "source": [
    "# Random Tweets\n",
    "tweets[:5]"
   ]
  },
  {
   "cell_type": "code",
   "execution_count": 38,
   "id": "growing-thought",
   "metadata": {
    "ExecuteTime": {
     "end_time": "2021-02-10T06:25:36.162531Z",
     "start_time": "2021-02-10T06:25:36.149552Z"
    }
   },
   "outputs": [
    {
     "data": {
      "text/html": [
       "<div>\n",
       "<style scoped>\n",
       "    .dataframe tbody tr th:only-of-type {\n",
       "        vertical-align: middle;\n",
       "    }\n",
       "\n",
       "    .dataframe tbody tr th {\n",
       "        vertical-align: top;\n",
       "    }\n",
       "\n",
       "    .dataframe thead th {\n",
       "        text-align: right;\n",
       "    }\n",
       "</style>\n",
       "<table border=\"1\" class=\"dataframe\">\n",
       "  <thead>\n",
       "    <tr style=\"text-align: right;\">\n",
       "      <th></th>\n",
       "      <th>hashtag</th>\n",
       "      <th>count</th>\n",
       "    </tr>\n",
       "  </thead>\n",
       "  <tbody>\n",
       "    <tr>\n",
       "      <th>0</th>\n",
       "      <td>#gonda</td>\n",
       "      <td>15</td>\n",
       "    </tr>\n",
       "    <tr>\n",
       "      <th>1</th>\n",
       "      <td>#thebloodman</td>\n",
       "      <td>15</td>\n",
       "    </tr>\n",
       "    <tr>\n",
       "      <th>2</th>\n",
       "      <td>#help</td>\n",
       "      <td>210</td>\n",
       "    </tr>\n",
       "    <tr>\n",
       "      <th>3</th>\n",
       "      <td>#afsoosnahimadadkaren</td>\n",
       "      <td>15</td>\n",
       "    </tr>\n",
       "    <tr>\n",
       "      <th>4</th>\n",
       "      <td>#blooddonation</td>\n",
       "      <td>15</td>\n",
       "    </tr>\n",
       "  </tbody>\n",
       "</table>\n",
       "</div>"
      ],
      "text/plain": [
       "                 hashtag  count\n",
       "0                 #gonda     15\n",
       "1           #thebloodman     15\n",
       "2                  #help    210\n",
       "3  #afsoosnahimadadkaren     15\n",
       "4         #blooddonation     15"
      ]
     },
     "execution_count": 38,
     "metadata": {},
     "output_type": "execute_result"
    }
   ],
   "source": [
    "# Hashtags\n",
    "hashtags[:5]"
   ]
  },
  {
   "cell_type": "markdown",
   "id": "oriental-attendance",
   "metadata": {},
   "source": [
    "## Data Analysis"
   ]
  },
  {
   "cell_type": "code",
   "execution_count": 60,
   "id": "rubber-hours",
   "metadata": {
    "ExecuteTime": {
     "end_time": "2021-02-10T06:38:49.345121Z",
     "start_time": "2021-02-10T06:38:49.332937Z"
    }
   },
   "outputs": [
    {
     "name": "stdout",
     "output_type": "stream",
     "text": [
      "(3961, 2)\n",
      "(3961,)\n"
     ]
    }
   ],
   "source": [
    "# Checking if there are multiple tweets from same username\n",
    "print(data_with_id.shape)\n",
    "print(data_with_id['username'].unique().shape)\n",
    "\n",
    "# All usernames are unique"
   ]
  },
  {
   "cell_type": "markdown",
   "id": "whole-ancient",
   "metadata": {},
   "source": [
    "#### *All usernames are unique*"
   ]
  },
  {
   "cell_type": "code",
   "execution_count": 39,
   "id": "swedish-guard",
   "metadata": {
    "ExecuteTime": {
     "end_time": "2021-02-10T06:25:41.818317Z",
     "start_time": "2021-02-10T06:25:41.806960Z"
    }
   },
   "outputs": [],
   "source": [
    "# Using base_color  and using whitegrid for good looking visualizations and a common color for every people including color blind.\n",
    "base_color = sb.color_palette()[0]\n",
    "sb.set_style('whitegrid');"
   ]
  },
  {
   "cell_type": "markdown",
   "id": "authorized-auditor",
   "metadata": {},
   "source": [
    "### *Most used Hashtag*"
   ]
  },
  {
   "cell_type": "code",
   "execution_count": 41,
   "id": "posted-garbage",
   "metadata": {
    "ExecuteTime": {
     "end_time": "2021-02-10T06:25:49.442789Z",
     "start_time": "2021-02-10T06:25:49.430389Z"
    }
   },
   "outputs": [
    {
     "name": "stdout",
     "output_type": "stream",
     "text": [
      "           hashtag  count\n",
      "210        #corona  36162\n",
      "143       #covid19  23664\n",
      "219   #coronavirus  21449\n",
      "215      #covid_19  18112\n",
      "216         #covid  16736\n",
      "244     #covid__19   3543\n",
      "274      #pandemic   3156\n",
      "298  #coronainfoch   2969\n",
      "287      #staysafe   2761\n",
      "285      #stayhome   2760\n"
     ]
    }
   ],
   "source": [
    "# top hashtags\n",
    "hashtags.sort_values('count', ascending = False, inplace = True, kind = 'mergesort')\n",
    "print(hashtags.head(10))"
   ]
  },
  {
   "cell_type": "code",
   "execution_count": 45,
   "id": "dedicated-battery",
   "metadata": {
    "ExecuteTime": {
     "end_time": "2021-02-10T06:31:22.261779Z",
     "start_time": "2021-02-10T06:31:22.016709Z"
    }
   },
   "outputs": [
    {
     "data": {
      "image/png": "[encoded data removed]",
      "text/plain": [
       "<Figure size 1080x648 with 1 Axes>"
      ]
     },
     "metadata": {},
     "output_type": "display_data"
    }
   ],
   "source": [
    "# Plotting the barplot\n",
    "plt.figure(figsize = [15, 9])\n",
    "sb.barplot(data = hashtags.head(18), x = 'hashtag', y = 'count', color = base_color);\n",
    "\n",
    "plt.title('Most Used Hashtags', fontweight = 'bold');\n",
    "plt.xlabel('Hashtags');\n",
    "plt.ylabel('Counts');\n",
    "plt.xticks(rotation = 45);"
   ]
  },
  {
   "cell_type": "markdown",
   "id": "uniform-rwanda",
   "metadata": {},
   "source": []
  }
 ],
 "metadata": {
  "kernelspec": {
   "display_name": "Python 3",
   "language": "python",
   "name": "python3"
  },
  "language_info": {
   "codemirror_mode": {
    "name": "ipython",
    "version": 3
   },
   "file_extension": ".py",
   "mimetype": "text/x-python",
   "name": "python",
   "nbconvert_exporter": "python",
   "pygments_lexer": "ipython3",
   "version": "3.7.9"
  }
 },
 "nbformat": 4,
 "nbformat_minor": 5
}
